{
  "nbformat": 4,
  "nbformat_minor": 0,
  "metadata": {
    "colab": {
      "provenance": []
    },
    "kernelspec": {
      "name": "python3",
      "display_name": "Python 3"
    },
    "language_info": {
      "name": "python"
    }
  },
  "cells": [
    {
      "cell_type": "code",
      "source": [
        "import tensorflow as tf\n",
        "import numpy as np\n",
        "import matplotlib.pyplot as plt\n",
        "from skimage.color import rgb2gray"
      ],
      "metadata": {
        "id": "5PqRJmVPS5A0"
      },
      "execution_count": 192,
      "outputs": []
    },
    {
      "cell_type": "markdown",
      "source": [
        "WITH NORMAL"
      ],
      "metadata": {
        "id": "1piCGLTNYWvX"
      }
    },
    {
      "cell_type": "code",
      "source": [
        "\n",
        "\n",
        "def load_custom_fmnist_data(npz_path='/content/custom_fmnist(1).npz', convert_to_grayscale=False):\n",
        "    # Load the .npz file\n",
        "    data = np.load(npz_path)\n",
        "\n",
        "    # Extract training and testing data\n",
        "    train_images = data['train_images']\n",
        "    train_labels = data['train_labels']\n",
        "    test_images = data['test_images']\n",
        "    test_labels = data['test_labels']\n",
        "\n",
        "    if convert_to_grayscale:\n",
        "        # Convert to grayscale using skimage's rgb2gray function\n",
        "        train_images = np.array([rgb2gray(img) for img in train_images])\n",
        "        test_images = np.array([rgb2gray(img) for img in test_images])\n",
        "\n",
        "    # Normalize the images to [0, 1] by dividing by their maximum values\n",
        "    train_images = train_images.astype(np.float32)  # Ensure type is float for division\n",
        "    test_images = test_images.astype(np.float32)    # Ensure type is float for division\n",
        "\n",
        "    # Auto-normalize based on max value\n",
        "    train_images_max = np.max(train_images) if np.max(train_images) > 0 else 1  # Avoid division by zero\n",
        "    test_images_max = np.max(test_images) if np.max(test_images) > 0 else 1      # Avoid division by zero\n",
        "\n",
        "    train_images /= train_images_max\n",
        "    test_images /= test_images_max\n",
        "\n",
        "    # Return data in the same format as fashion_mnist.load_data()\n",
        "    return (train_images, train_labels), (test_images, test_labels)\n",
        "\n",
        "# Example usage\n",
        "(train_images, train_labels), (test_images, test_labels) = load_custom_fmnist_data(convert_to_grayscale=True)\n",
        "\n",
        "# Check the shape of the data\n",
        "print(\"Train images shape:\", train_images.shape)\n",
        "print(\"Train labels shape:\", train_labels.shape)\n",
        "print(\"Test images shape:\", test_images.shape)\n",
        "print(\"Test labels shape:\", test_labels.shape)\n",
        "\n",
        "# Check normalized values\n",
        "print(\"Train images normalized range:\", train_images.min(), \"to\", train_images.max())\n",
        "print(\"Test images normalized range:\", test_images.min(), \"to\", test_images.max())\n",
        "\n",
        "index = 8  # Index of the image you want to display\n",
        "plt.imshow(train_images[index], cmap='gray')\n",
        "plt.title(f'Label: {train_labels[index]}')\n",
        "plt.colorbar()\n",
        "plt.show()\n"
      ],
      "metadata": {
        "colab": {
          "base_uri": "https://localhost:8080/",
          "height": 560
        },
        "id": "lbdw0m5FVv0w",
        "outputId": "abc48050-9dd1-4b0f-9af4-68bccf82e96d"
      },
      "execution_count": 197,
      "outputs": [
        {
          "output_type": "stream",
          "name": "stdout",
          "text": [
            "Train images shape: (12, 28, 28)\n",
            "Train labels shape: (12,)\n",
            "Test images shape: (6, 28, 28)\n",
            "Test labels shape: (6,)\n",
            "Train images normalized range: 0.026666667 to 1.0\n",
            "Test images normalized range: 0.07416666 to 1.0\n"
          ]
        },
        {
          "output_type": "display_data",
          "data": {
            "text/plain": [
              "<Figure size 640x480 with 2 Axes>"
            ],
            "image/png": "[encoded data removed]"
          },
          "metadata": {}
        }
      ]
    },
    {
      "cell_type": "markdown",
      "source": [
        "FIRST CONCEPT"
      ],
      "metadata": {
        "id": "NRrOTJkLYdYe"
      }
    },
    {
      "cell_type": "code",
      "execution_count": 195,
      "metadata": {
        "colab": {
          "base_uri": "https://localhost:8080/"
        },
        "id": "LzzGCJgpSV59",
        "outputId": "15dfb09f-b2d7-4cb5-f09c-1e54cd35a327"
      },
      "outputs": [
        {
          "output_type": "stream",
          "name": "stdout",
          "text": [
            "Train images shape: (12, 28, 28)\n",
            "Train labels shape: (12,)\n",
            "Test images shape: (6, 28, 28)\n",
            "Test labels shape: (6,)\n"
          ]
        }
      ],
      "source": [
        "\n",
        "def load_custom_fmnist_data(npz_path='/content/custom_fmnist(1).npz', convert_to_grayscale=False):\n",
        "    # Load the .npz file\n",
        "    data = np.load(npz_path)\n",
        "\n",
        "    # Extract training and testing data\n",
        "    train_images = data['train_images']\n",
        "    train_labels = data['train_labels']\n",
        "    test_images = data['test_images']\n",
        "    test_labels = data['test_labels']\n",
        "\n",
        "    if convert_to_grayscale:\n",
        "        # Convert to grayscale using skimage's rgb2gray function\n",
        "        train_images = np.array([rgb2gray(img) for img in train_images])\n",
        "        test_images = np.array([rgb2gray(img) for img in test_images])\n",
        "\n",
        "    # Return data in the same format as fashion_mnist.load_data()\n",
        "    return (train_images, train_labels), (test_images, test_labels)\n",
        "\n",
        "# Example usage: simulate the behavior of tf.keras.datasets.fashion_mnist.load_data()\n",
        "(train_images, train_labels), (test_images, test_labels) = load_custom_fmnist_data(convert_to_grayscale=True)\n",
        "\n",
        "# Check the shape of the data\n",
        "print(\"Train images shape:\", train_images.shape)\n",
        "print(\"Train labels shape:\", train_labels.shape)\n",
        "print(\"Test images shape:\", test_images.shape)\n",
        "print(\"Test labels shape:\", test_labels.shape)\n"
      ]
    },
    {
      "cell_type": "markdown",
      "source": [
        "with picture"
      ],
      "metadata": {
        "id": "C93DR7lRYjb-"
      }
    },
    {
      "cell_type": "code",
      "source": [
        "\n",
        "\n",
        "def load_custom_fmnist_data(npz_path='/content/custom_fmnist(1).npz', convert_to_grayscale=False):\n",
        "    # Load the .npz file\n",
        "    data = np.load(npz_path)\n",
        "\n",
        "    # Extract training and testing data\n",
        "    train_images = data['train_images']\n",
        "    train_labels = data['train_labels']\n",
        "    test_images = data['test_images']\n",
        "    test_labels = data['test_labels']\n",
        "\n",
        "    if convert_to_grayscale:\n",
        "        # Convert to grayscale using skimage's rgb2gray function\n",
        "        train_images = np.array([rgb2gray(img) for img in train_images])\n",
        "        test_images = np.array([rgb2gray(img) for img in test_images])\n",
        "\n",
        "    # Return data in the same format as fashion_mnist.load_data()\n",
        "    return (train_images, train_labels), (test_images, test_labels)\n",
        "\n",
        "# Example usage: simulate the behavior of tf.keras.datasets.fashion_mnist.load_data()\n",
        "(train_images, train_labels), (test_images, test_labels) = load_custom_fmnist_data(convert_to_grayscale=True)\n",
        "\n",
        "# Check the shape of the data\n",
        "print(\"Train images shape:\", train_images.shape)\n",
        "print(\"Train labels shape:\", train_labels.shape)\n",
        "print(\"Test images shape:\", test_images.shape)\n",
        "print(\"Test labels shape:\", test_labels.shape)\n",
        "\n",
        "# Show an image (e.g., the first one in the training set)\n",
        "index = 8  # Index of the image you want to display\n",
        "plt.imshow(train_images[index], cmap='gray')\n",
        "plt.title(f'Label: {train_labels[index]}')\n",
        "plt.colorbar()\n",
        "plt.show()\n"
      ],
      "metadata": {
        "colab": {
          "base_uri": "https://localhost:8080/",
          "height": 524
        },
        "id": "kYvBf1JJh6hY",
        "outputId": "ad65c810-98b6-4402-f282-ecffdc538c9d"
      },
      "execution_count": 196,
      "outputs": [
        {
          "output_type": "stream",
          "name": "stdout",
          "text": [
            "Train images shape: (12, 28, 28)\n",
            "Train labels shape: (12,)\n",
            "Test images shape: (6, 28, 28)\n",
            "Test labels shape: (6,)\n"
          ]
        },
        {
          "output_type": "display_data",
          "data": {
            "text/plain": [
              "<Figure size 640x480 with 2 Axes>"
            ],
            "image/png": "[encoded data removed]"
          },
          "metadata": {}
        }
      ]
    },
    {
      "cell_type": "code",
      "source": [
        "# You can put between 0 to 59999 here\n",
        "index = 11\n",
        "\n",
        "# Set number of characters per row when printing\n",
        "np.set_printoptions(linewidth=320)\n",
        "\n",
        "# Print the label and image\n",
        "print(f'LABEL: {train_labels[index]}')\n",
        "print(f'\\nIMAGE PIXEL ARRAY:\\n\\n{train_images[index]}\\n\\n')\n",
        "\n",
        "# Visualize the image using the default colormap (viridis)\n",
        "plt.imshow(train_images[index])\n",
        "plt.colorbar()\n",
        "plt.show()"
      ],
      "metadata": {
        "colab": {
          "base_uri": "https://localhost:8080/",
          "height": 1000
        },
        "id": "NQvft-nsSxZE",
        "outputId": "491bfad7-f91f-4c0b-9b45-763546ee6256"
      },
      "execution_count": 198,
      "outputs": [
        {
          "output_type": "stream",
          "name": "stdout",
          "text": [
            "LABEL: 1\n",
            "\n",
            "IMAGE PIXEL ARRAY:\n",
            "\n",
            "[[1.         1.         1.         1.         1.         1.         1.         1.         1.         1.         1.         1.         1.         1.         1.         1.         1.         1.         1.         1.         1.         1.         1.         1.         1.         1.         1.         1.        ]\n",
            " [1.         1.         1.         0.9638655  0.8728447  0.8621961  0.92354155 1.         1.         1.         1.         1.         1.         1.         1.         1.         1.         1.         1.         1.         1.         1.         1.         1.         1.         1.         1.         1.        ]\n",
            " [1.         1.         1.         0.97310746 0.68882394 0.4219153  0.52391213 0.7314545  0.9087114  1.         1.         1.         1.         1.         1.         1.         1.         1.         1.         1.         1.         1.         1.         1.         1.         1.         1.         1.        ]\n",
            " [1.         1.         1.         1.         0.90420943 0.42754117 0.54886234 0.6782647  0.69983685 0.827498   0.99607843 1.         1.         1.         0.9924396  0.8512945  0.994129   1.         1.         1.         1.         1.         1.         1.         1.         1.         1.         1.        ]\n",
            " [1.         1.         1.         1.         0.9652643  0.51828706 0.5950651  0.65221334 0.5550161  0.37240118 0.5208004  0.78796196 0.84254277 0.8792357  0.90557766 0.55920744 0.93497807 1.         1.         1.         1.         1.         1.         1.         1.         1.         1.         1.        ]\n",
            " [1.         1.         1.         1.         0.99467963 0.759709   0.59810865 0.48018745 0.37766117 0.3602706  0.41235214 0.65629685 0.73777723 0.7374796  0.8792506  0.6936333  0.8696584  1.         1.         1.         1.         1.         1.         1.         1.         1.         1.         1.        ]\n",
            " [1.         1.         1.         1.         1.         0.99579567 0.8857106  0.7213047  0.6182357  0.81736237 0.95519686 0.99943453 0.9395831  0.85528666 0.8477184  0.7786726  0.7936455  0.94633293 0.9438102  0.9735906  1.         1.         1.         1.         1.         1.         1.         1.        ]\n",
            " [1.         1.         1.         1.         1.         1.         1.         1.         1.         1.         0.89581215 0.7427051  0.6951698  0.68219256 0.698482   0.72092587 0.7334278  0.7743698  0.75747806 0.80636823 0.8833792  0.97696155 1.         1.         1.         1.         1.         1.        ]\n",
            " [1.         1.         1.         1.         1.         1.         1.         1.         0.9854149  0.73754865 0.60540277 0.619058   0.6439949  0.6748553  0.694211   0.72904474 0.72286826 0.7242749  0.71414703 0.72819644 0.7329741  0.7903247  0.95055217 1.         1.         1.         1.         1.        ]\n",
            " [1.         1.         1.         1.         1.         1.         1.         1.         0.7096145  0.5090302  0.5753247  0.61285174 0.6327729  0.6757035  0.70209885 0.7349902  0.74790865 0.7740502  0.7785153  0.77288234 0.73240864 0.7138494  0.7534898  0.9623467  1.         1.         1.         1.        ]\n",
            " [1.         1.         1.         1.         1.         1.         1.         0.85077804 0.4833808  0.53363097 0.58316785 0.60780627 0.62996745 0.6667365  0.7159023  0.76367646 0.82043964 0.8179318  0.81340784 0.8159157  0.7897522  0.7444788  0.71021056 0.8074694  0.996629   1.         1.         1.        ]\n",
            " [1.         1.         1.         1.         1.         1.         0.9924396  0.59463805 0.48413175 0.54511297 0.5848345  0.6097784  0.6305329  0.6611255  0.71646786 0.7788569  0.8187651  0.822151   0.8336408  0.8406655  0.8139365  0.76555294 0.7318133  0.7203086  0.9384451  1.         1.         1.        ]\n",
            " [1.         1.         1.         1.         1.         1.         0.90157294 0.4677996  0.4942149  0.54791844 0.57727414 0.60697293 0.6252047  0.661691   0.7066525  0.75806546 0.8083694  0.83338    0.8398243  0.84515256 0.8431882  0.7813137  0.74642116 0.7166549  0.86199254 1.         1.         1.        ]\n",
            " [1.         1.         1.         1.         1.         1.         0.7675016  0.4316047  0.4875255  0.5434463  0.5803624  0.5988392  0.62437135 0.65832    0.70972586 0.7397969  0.7836416  0.81202316 0.82043964 0.8460008  0.8327925  0.79510236 0.7500749  0.7250714  0.8161686  1.         1.         1.        ]\n",
            " [1.         1.         1.         1.         1.         1.         0.6883698  0.4312992  0.4833361  0.53450197 0.5649737  0.5884733  0.6212831  0.6501714  0.69539374 0.7313584  0.7504753  0.7825106  0.7934498  0.81058747 0.7984953  0.7782255  0.74979216 0.7337706  0.79987216 0.9918592  1.         1.        ]\n",
            " [1.         1.         1.         1.         1.         1.         0.6754216  0.44107687 0.48416942 0.53002983 0.5487518  0.5730847  0.60697293 0.6386667  0.6689765  0.70689845 0.7347294  0.7510188  0.769831   0.7675541  0.7579847  0.74869806 0.7424847  0.7424847  0.80128586 0.9854     1.         1.        ]\n",
            " [1.         1.         1.         1.         1.         1.         0.69531214 0.45002118 0.4810812  0.5118357  0.53336316 0.56216824 0.5977231  0.6302502  0.6633655  0.68104666 0.7026792  0.7214914  0.7284941  0.7473063  0.74531215 0.73939645 0.7419043  0.7540114  0.8150745  0.98877096 1.         1.        ]\n",
            " [1.         1.         1.         1.         1.         1.         0.75561684 0.4833659  0.49311373 0.5065302  0.5249467  0.5573906  0.5921122  0.6159549  0.6468153  0.67513806 0.68383723 0.69731414 0.7116094  0.7225635  0.73350275 0.7360255  0.7475302  0.7649945  0.84768236 0.99691176 1.         1.        ]\n",
            " [1.         1.         1.         1.         1.         1.         0.85297257 0.5498392  0.518898   0.51744664 0.5322243  0.55375177 0.5884733  0.61006117 0.64147216 0.66952705 0.6827212  0.6944937  0.7116094  0.71947527 0.7304145  0.73939645 0.7492267  0.7700988  0.89041805 1.         1.         1.        ]\n",
            " [1.         1.         1.         1.         1.         1.         0.94781333 0.6286655  0.55844116 0.54660195 0.55128944 0.562451   0.5940843  0.61258394 0.6434443  0.66391605 0.6827212  0.69168824 0.7059984  0.7177859  0.71695256 0.7315306  0.7470086  0.79457295 0.9527992  1.         1.         1.        ]\n",
            " [1.         1.         1.         1.         1.         1.         1.         0.73081374 0.57777333 0.56987846 0.5692306  0.5753396  0.59605646 0.6210004  0.6411894  0.66363335 0.680749   0.6891655  0.7001047  0.7138643  0.71947527 0.7293055  0.750989   0.8448988  0.9929753  1.         1.         1.        ]\n",
            " [1.         0.99607843 0.99607843 0.99132353 0.9916063  0.99132353 0.99022233 0.871249   0.5945984  0.59142077 0.58659136 0.5907659  0.6013996  0.62661135 0.64147216 0.66391605 0.680749   0.68355453 0.6981475  0.7062961  0.71612626 0.73076314 0.781111   0.9303333  1.         1.         1.         1.        ]\n",
            " [0.9952451  0.99215686 0.98851806 0.9762027  0.964438   0.95350665 0.9338988  0.9053467  0.7059608  0.5695063  0.59636194 0.6064451  0.6176443  0.6325051  0.64708316 0.66391605 0.678509   0.685251   0.7004243  0.71166825 0.72489136 0.76060236 0.87443334 0.996629   1.         1.         1.         1.        ]\n",
            " [0.99132353 0.98376316 0.9655541  0.9409086  0.9103694  0.88710785 0.86721724 0.842549   0.8204184  0.66527885 0.5695063  0.5963243  0.6249071  0.64511096 0.6588706  0.6737463  0.68274313 0.6939871  0.71225566 0.72968316 0.7462922  0.84466    0.98624825 1.         1.         1.         1.         1.        ]\n",
            " [0.99132353 0.9801243  0.9565949  0.91821253 0.8798302  0.85264707 0.8344231  0.8226357  0.8184314  0.81535804 0.71480197 0.5812722  0.5563498  0.6095184  0.64735097 0.66503215 0.67205685 0.67798746 0.68672353 0.70112234 0.7894071  0.9531337  1.         1.         1.         1.         1.         1.        ]\n",
            " [0.99607843 0.99132353 0.9801243  0.95687765 0.9330655  0.9100867  0.89186275 0.8747549  0.86128587 0.8368855  0.79062235 0.6871498  0.5544475  0.48307648 0.48152784 0.49042746 0.5086286  0.5734055  0.682258   0.8083157  0.9270439  0.9896192  1.         1.         1.         1.         1.         1.        ]\n",
            " [0.9988839  0.99607843 0.99607843 0.9916063  0.98376316 0.9798416  0.9731145  0.96498865 0.9537745  0.93721724 0.9164557  0.90382    0.89427257 0.8623118  0.8244423  0.8148949  0.8516255  0.91472864 0.9657843  0.9901847  1.         1.         1.         1.         1.         1.         1.         1.        ]\n",
            " [1.         1.         1.         1.         1.         1.         1.         0.99607843 0.9952451  0.9952451  0.9952451  0.99916667 1.         1.         1.         1.         1.         1.         1.         1.         1.         1.         1.         1.         1.         1.         1.         1.        ]]\n",
            "\n",
            "\n"
          ]
        },
        {
          "output_type": "display_data",
          "data": {
            "text/plain": [
              "<Figure size 640x480 with 2 Axes>"
            ],
            "image/png": "[encoded data removed]"
          },
          "metadata": {}
        }
      ]
    },
    {
      "cell_type": "code",
      "source": [
        "import numpy as np\n",
        "import matplotlib.pyplot as plt\n",
        "\n",
        "# Assuming train_labels and train_images are already defined\n",
        "# You can put between 0 to 59999 here\n",
        "index = 10\n",
        "\n",
        "# Set number of characters per row when printing\n",
        "np.set_printoptions(linewidth=320)\n",
        "\n",
        "# Print the label and image pixel array\n",
        "print(f'LABEL: {train_labels[index]}')\n",
        "print(f'\\nIMAGE PIXEL ARRAY:\\n\\n{train_images[index]}\\n\\n')\n",
        "\n",
        "# Save the pixel array to a file\n",
        "pixel_array = train_images[index]  # Get the pixel array\n",
        "np.save('pixel_array.npy', pixel_array)  # Save as a .npy file\n",
        "print(\"Pixel array saved as 'pixel_array.npy'.\")\n",
        "\n",
        "# Load the pixel array from the file\n",
        "loaded_pixel_array = np.load('pixel_array.npy')\n",
        "\n",
        "# Convert the loaded pixel array to a 2D array if necessary\n",
        "image_size = 28  # Change this to your image dimensions if needed\n",
        "reshaped_array = loaded_pixel_array.reshape((image_size, image_size))\n",
        "\n",
        "# Visualize the loaded pixel array as a heatmap\n",
        "plt.figure(figsize=(8, 8))  # Set the size of the figure\n",
        "plt.imshow(reshaped_array, cmap='viridis')  # Use the viridis colormap\n",
        "plt.colorbar()  # Show color scale\n",
        "plt.title(f'Heatmap for Label: {train_labels[index]}')  # Title with label\n",
        "plt.axis('off')  # Turn off axis labels\n",
        "plt.show()\n"
      ],
      "metadata": {
        "colab": {
          "base_uri": "https://localhost:8080/",
          "height": 1000
        },
        "id": "yOxIcJp_Tt4j",
        "outputId": "9cc43624-ef36-4cb6-aa68-c461cd6b47c0"
      },
      "execution_count": 199,
      "outputs": [
        {
          "output_type": "stream",
          "name": "stdout",
          "text": [
            "LABEL: 1\n",
            "\n",
            "IMAGE PIXEL ARRAY:\n",
            "\n",
            "[[0.753209   0.753209   0.76105213 0.76105213 0.7649737  0.7649737  0.7649737  0.7649737  0.7649737  0.7649737  0.7649737  0.7649737  0.7649737  0.76105213 0.7649737  0.7649737  0.76105213 0.76105213 0.76105213 0.75713056 0.75713056 0.753209   0.74536586 0.7414443  0.7375227  0.73360115 0.7296796  0.7296796 ]\n",
            " [0.753209   0.753209   0.76105213 0.76105213 0.7649737  0.7649737  0.7649737  0.7649737  0.7649737  0.7649737  0.7649737  0.7649737  0.7613349  0.76442313 0.76917803 0.7660898  0.76105213 0.76105213 0.76105213 0.75713056 0.75713056 0.753209   0.74536586 0.74536586 0.7414443  0.73360115 0.7296796  0.7296796 ]\n",
            " [0.753209   0.7537596  0.7587972  0.76105213 0.7649737  0.7649737  0.7649737  0.7649737  0.76105213 0.76160276 0.762451   0.7669757  0.7669082  0.6612874  0.7299631  0.75687057 0.76664037 0.7621682  0.7579639  0.753209   0.75713056 0.753209   0.7492874  0.74536586 0.7414443  0.73360115 0.7296796  0.7296796 ]\n",
            " [0.753209   0.75487566 0.75934786 0.7649737  0.7649737  0.7649737  0.7649737  0.7649737  0.76188546 0.7649886  0.7562447  0.6998674  0.6981251  0.54932356 0.4989859  0.53635293 0.6679506  0.74151254 0.76442313 0.75713056 0.75713056 0.753209   0.7492874  0.74536586 0.74536586 0.7375227  0.73360115 0.7296796 ]\n",
            " [0.753209   0.7576812  0.76132    0.7649737  0.7649737  0.7649737  0.7649737  0.7649737  0.7697435  0.743862   0.61217725 0.6040431  0.6558349  0.6752204  0.5643812  0.40818667 0.6308357  0.7192969  0.7152012  0.7613121  0.75629723 0.753209   0.7492874  0.74536586 0.74536586 0.7375227  0.73360115 0.7296796 ]\n",
            " [0.753209   0.75684786 0.76048666 0.76105213 0.7649737  0.7649737  0.7649737  0.7655392  0.7613051  0.5990506  0.5491404  0.603202   0.64129454 0.6867173  0.72601527 0.55662745 0.4551694  0.6940553  0.6487251  0.7059137  0.76076156 0.75237566 0.7492874  0.74536586 0.7414443  0.7375227  0.73360115 0.7296796 ]\n",
            " [0.753209   0.7529263  0.7607694  0.76105213 0.7649737  0.7649737  0.7649737  0.7719984  0.672989   0.5267788  0.55169296 0.59789646 0.62730473 0.67806274 0.7454753  0.793211   0.59783727 0.46032432 0.5923263  0.59599566 0.7601961  0.753209   0.7492874  0.74536586 0.7414443  0.73360115 0.73360115 0.73360115]\n",
            " [0.753209   0.753209   0.75713056 0.76105213 0.76105213 0.76105213 0.76442313 0.7528588  0.58442783 0.5184     0.5405086  0.58250785 0.6088278  0.66123766 0.7303169  0.80533373 0.8392878  0.6886812  0.46553254 0.4720153  0.7097827  0.7537745  0.74536586 0.74536586 0.7414443  0.7375227  0.73360115 0.73360115]\n",
            " [0.753209   0.753209   0.75713056 0.76105213 0.76105213 0.76105213 0.7669608  0.7050243  0.5423016  0.4985541  0.52623606 0.5654298  0.58502275 0.64614666 0.717711   0.78879136 0.83737606 0.8451965  0.7096808  0.47751334 0.6420961  0.75826156 0.74536586 0.74536586 0.7414443  0.7375227  0.73360115 0.73360115]\n",
            " [0.753209   0.75713056 0.75713056 0.76105213 0.76105213 0.76105213 0.7660898  0.6580459  0.5187871  0.47587293 0.50048155 0.5419074  0.564031   0.61391807 0.6809577  0.7564953  0.8168745  0.8525188  0.82131684 0.69948626 0.67636037 0.75234586 0.7456486  0.74536586 0.74536586 0.7375227  0.73360115 0.73360115]\n",
            " [0.7492874  0.753209   0.75713056 0.75713056 0.76105213 0.76330703 0.75847685 0.6181596  0.48995215 0.4607749  0.48035294 0.5136529  0.53547096 0.5797322  0.65767336 0.7258886  0.79272705 0.82950234 0.8300459  0.7797278  0.73138905 0.7443906  0.74649686 0.74536586 0.74536586 0.7414443  0.7375227  0.73360115]\n",
            " [0.753209   0.753209   0.75713056 0.76105213 0.76105213 0.7635898  0.74916744 0.58393687 0.46756157 0.44790903 0.46413097 0.49490824 0.51645845 0.5495055  0.6223714  0.6930647  0.76886237 0.8090086  0.8157435  0.78844905 0.7394851  0.7422992  0.7532388  0.7492874  0.74536586 0.74536586 0.7414443  0.7375227 ]\n",
            " [0.75713056 0.75713056 0.7649737  0.7649737  0.7649737  0.76779413 0.74069136 0.5561882  0.4513247  0.4297298  0.44959843 0.4747647  0.48990825 0.5243243  0.5923827  0.65826863 0.73266745 0.77533644 0.7817808  0.7811784  0.7437192  0.7438694  0.76108193 0.76105213 0.75713056 0.753209   0.7492874  0.7492874 ]\n",
            " [0.76889527 0.76889527 0.77281684 0.77281684 0.7767384  0.7834804  0.73728275 0.5376816  0.44685254 0.41968432 0.4328259  0.45714393 0.47730234 0.503042   0.55763924 0.62854785 0.6942106  0.7419243  0.76128703 0.7575965  0.73163414 0.7429459  0.77368    0.77281684 0.76889527 0.7649737  0.7649737  0.76105213]\n",
            " [0.78066    0.78458154 0.78458154 0.7885031  0.7885031  0.7944118  0.73868155 0.5320855  0.44180706 0.42165646 0.42388156 0.43952313 0.45464393 0.48598668 0.5287965  0.59296316 0.6588639  0.70880276 0.7357408  0.7354361  0.7192961  0.7471353  0.7888157  0.7885031  0.78458154 0.78066    0.78066    0.7767384 ]\n",
            " [0.7924247  0.79634625 0.7971796  0.8002678  0.8002678  0.8061765  0.7496129  0.5348761  0.45050627 0.4323051  0.42725256 0.4339498  0.44403294 0.47423688 0.5148067  0.5587702  0.62492394 0.6812843  0.7037502  0.7118541  0.70023096 0.75700235 0.80450195 0.8041894  0.8002678  0.79634625 0.79634625 0.79634625]\n",
            " [0.8041894  0.8097776  0.8108937  0.8159541  0.8159541  0.8226961  0.7678596  0.53372234 0.46282157 0.44909254 0.4446055  0.4457145  0.45187607 0.46443647 0.49549648 0.5400106  0.58623606 0.64174825 0.6756961  0.68659765 0.6859357  0.77221256 0.8235443  0.81987566 0.8159541  0.8120325  0.8120325  0.8120325 ]\n",
            " [0.8237972  0.8226584  0.82658    0.8277188  0.83164036 0.8352941  0.794522   0.5437828  0.4692055  0.46303686 0.4571659  0.45912313 0.4577243  0.46780744 0.4887843  0.52768743 0.5613     0.6103459  0.6484604  0.66553843 0.67698354 0.7989196  0.8358596  0.83164036 0.83275646 0.83164036 0.8277188  0.8249133 ]\n",
            " [0.8344231  0.8344231  0.8383447  0.8403169  0.8434051  0.84677607 0.8265275  0.5611733  0.47335726 0.46944353 0.46721137 0.46581256 0.46973413 0.47617844 0.49101648 0.5136827  0.5478537  0.59099096 0.62656784 0.64531255 0.67815924 0.8318259  0.84705883 0.8473267  0.8453545  0.84423846 0.83948356 0.8383447 ]\n",
            " [0.84618783 0.8501094  0.85403097 0.85516983 0.85516983 0.8579753  0.8632957  0.61112    0.4634745  0.46798432 0.46546942 0.47219646 0.4764008  0.4833957  0.4926455  0.5055341  0.5326874  0.5730122  0.60745806 0.6253545  0.69929296 0.8638463  0.86217964 0.8590914  0.85795254 0.85600317 0.85516983 0.85403097]\n",
            " [0.85403097 0.8571192  0.85992473 0.8590914  0.8638463  0.8618741  0.87871414 0.71640116 0.43875372 0.45447764 0.4612047  0.46904784 0.47691372 0.48280746 0.49317333 0.5063149  0.5281627  0.55812156 0.5872471  0.6059769  0.7583706  0.8761914  0.8686012  0.8657957  0.8657957  0.8657957  0.86496234 0.8657957 ]\n",
            " [0.8618741  0.8638463  0.86693454 0.8708561  0.87168944 0.8736388  0.8809314  0.8548118  0.4781263  0.41102704 0.4426902  0.4566949  0.4712651  0.47882548 0.48582038 0.50178236 0.52194864 0.54406434 0.56644785 0.62315136 0.84943885 0.8843024  0.8775604  0.8775604  0.8775604  0.8736388  0.8736388  0.8736388 ]\n",
            " [0.84927607 0.84927607 0.85319763 0.85600317 0.86132354 0.86552787 0.866629   0.89411765 0.6805635  0.36008352 0.40319097 0.43651372 0.45694    0.47289413 0.48326    0.49753255 0.5182494  0.5412063  0.5568628  0.757209   0.9041929  0.8915573  0.88960785 0.8921306  0.8924133  0.8856863  0.88596904 0.8893251 ]\n",
            " [0.8002678  0.78933644 0.7792384  0.7660749  0.7515047  0.74561095 0.74333334 0.750611   0.7643102  0.4708357  0.32623294 0.3830247  0.425269   0.45352352 0.47592196 0.49637097 0.51678234 0.53214115 0.67824    0.8903886  0.89796394 0.8976812  0.89796394 0.9013349  0.9013349  0.89686275 0.899951   0.9010898 ]\n",
            " [0.76580703 0.7305129  0.6823153  0.6304263  0.59342784 0.5693102  0.55444235 0.5420894  0.53087527 0.49300587 0.30503568 0.23508549 0.2873447  0.3449549  0.38717648 0.42073646 0.43809727 0.5540349  0.7724788  0.842071   0.8673196  0.8830435  0.89006823 0.8962447  0.8968102  0.9032694  0.90385765 0.90501136]\n",
            " [0.80697215 0.7837255  0.7520702  0.71562237 0.67581844 0.64524156 0.61832625 0.5869161  0.5468294  0.4918898  0.42348117 0.3435757  0.3303894  0.3524596  0.39581215 0.45235097 0.5498474  0.6925506  0.7842584  0.8314074  0.8625647  0.8816447  0.88895214 0.8954114  0.8990651  0.90160275 0.9033071  0.90501136]\n",
            " [0.85319763 0.8501094  0.8453545  0.8355392  0.83050156 0.8215196  0.81619924 0.8061012  0.79880863 0.7934655  0.7934506  0.79650116 0.7956451  0.80601096 0.81749296 0.8359847  0.8494161  0.856158   0.86962706 0.87803566 0.8873004  0.89347684 0.8971306  0.89824665 0.9033071  0.9019231  0.8982843  0.8971682 ]\n",
            " [0.86693454 0.86693454 0.8680506  0.86691177 0.86691177 0.86971724 0.8688839  0.8657957  0.86215687 0.86496234 0.86943454 0.86717963 0.869129   0.8730506  0.8730506  0.8758561  0.87668943 0.88172704 0.8848153  0.8879035  0.89210784 0.89210784 0.8912745  0.8971682  0.89324665 0.89324665 0.89324665 0.8893251 ]]\n",
            "\n",
            "\n",
            "Pixel array saved as 'pixel_array.npy'.\n"
          ]
        },
        {
          "output_type": "display_data",
          "data": {
            "text/plain": [
              "<Figure size 800x800 with 2 Axes>"
            ],
            "image/png": "[encoded data removed]"
          },
          "metadata": {}
        }
      ]
    },
    {
      "cell_type": "code",
      "source": [
        "import numpy as np\n",
        "import matplotlib.pyplot as plt\n",
        "\n",
        "# Assuming train_labels and train_images are already defined\n",
        "# You can put between 0 to 59999 here\n",
        "index = 7\n",
        "\n",
        "# Set number of characters per row when printing\n",
        "np.set_printoptions(linewidth=320)\n",
        "\n",
        "# Print the label and image pixel array\n",
        "print(f'LABEL: {train_labels[index]}')\n",
        "print(f'\\nIMAGE PIXEL ARRAY:\\n\\n{train_images[index]}\\n\\n')\n",
        "\n",
        "# Save the pixel array as a variable\n",
        "pixel_array = train_images[index]  # Get the pixel array\n",
        "\n",
        "# Convert the pixel array to a 2D array if necessary\n",
        "image_size = 28  # Change this to your image dimensions if needed\n",
        "reshaped_array = pixel_array.reshape((image_size, image_size))\n",
        "\n",
        "# Now you have the pixel array saved in the variable reshaped_array\n",
        "# Visualize the reshaped pixel array as a heatmap\n",
        "plt.figure(figsize=(8, 8))  # Set the size of the figure\n",
        "plt.imshow(reshaped_array, cmap='viridis')  # Use the viridis colormap\n",
        "plt.colorbar()  # Show color scale\n",
        "plt.title(f'Heatmap for Label: {train_labels[index]}')  # Title with label\n",
        "plt.axis('off')  # Turn off axis labels\n",
        "plt.show()\n"
      ],
      "metadata": {
        "colab": {
          "base_uri": "https://localhost:8080/",
          "height": 1000
        },
        "id": "IneE0X76UjYn",
        "outputId": "ac8d5bf9-30ef-474e-fdf3-cdc2afcf847b"
      },
      "execution_count": 200,
      "outputs": [
        {
          "output_type": "stream",
          "name": "stdout",
          "text": [
            "LABEL: 1\n",
            "\n",
            "IMAGE PIXEL ARRAY:\n",
            "\n",
            "[[1.         1.         1.         1.         1.         1.         1.         1.         1.         1.         1.         1.         1.         1.         1.         1.         1.         1.         1.         1.         1.         1.         1.         1.         1.         1.         1.         1.        ]\n",
            " [1.         1.         1.         1.         1.         1.         1.         1.         1.         1.         1.         1.         0.99691176 0.99354076 0.99354076 1.         1.         1.         1.         1.         1.         1.         1.         1.         1.         1.         1.         1.        ]\n",
            " [1.         1.         1.         1.         1.         1.         1.         1.         1.         0.97221375 0.91324747 0.86917174 0.84866315 0.8562533  0.85990703 0.879002   0.9011772  0.93010235 0.9767008  1.         1.         1.         1.         1.         1.         1.         1.         1.        ]\n",
            " [1.         1.         1.         1.         1.         1.         1.         0.9783902  0.8489388  0.7798596  0.7613153  0.7129906  0.7149259  0.69446117 0.7242345  0.77564746 0.8155337  0.8234067  0.85710156 0.9070859  0.9761502  1.         1.         1.         1.         1.         1.         1.        ]\n",
            " [1.         1.         1.         1.         1.         1.         0.9657545  0.77000743 0.6792886  0.6736847  0.66686904 0.61802274 0.5946867  0.62841845 0.6174573  0.65540826 0.74417764 0.7655196  0.7989616  0.8214345  0.861038   0.9601435  1.         1.         1.         1.         1.         1.        ]\n",
            " [1.         1.         1.         1.         1.         0.95564157 0.73771137 0.6997604  0.7194427  0.6703137  0.60229176 0.574811   0.6063106  0.632318   0.6474765  0.63655216 0.6418874  0.6660718  0.68745846 0.7349349  0.7686596  0.8082482  0.93347335 1.         1.         1.         1.         1.        ]\n",
            " [1.         1.         1.         1.         0.98653096 0.76046    0.68653727 0.74804115 0.68597883 0.6323329  0.5734788  0.6872035  0.69086    0.6553671  0.60145843 0.5548521  0.51503253 0.54087645 0.6144498  0.69422233 0.71388274 0.69000316 0.72540236 0.93347335 1.         1.         1.         1.        ]\n",
            " [1.         1.         1.         1.         0.85004    0.69635254 0.75983566 0.7475047  0.67867845 0.610991   0.614489   0.70070237 0.6172945  0.60204154 0.64441806 0.5910478  0.5069067  0.4887345  0.5580361  0.6507043  0.7138898  0.66444904 0.6363502  0.7475855  0.98287725 1.         1.         1.        ]\n",
            " [1.         1.         1.         0.95564157 0.7180071  0.7424153  0.78825414 0.7581831  0.6682459  0.62108904 0.6659988  0.60433924 0.6181357  0.6606408  0.5910259  0.55486786 0.5234867  0.52323294 0.5906     0.60546786 0.6436647  0.66304237 0.6090847  0.62651294 0.88517845 1.         1.         1.        ]\n",
            " [1.         1.         1.         0.8303726  0.7028047  0.76602703 0.7910596  0.72812706 0.67786705 0.66349804 0.6073153  0.6087439  0.60371333 0.6227784  0.5894039  0.5476498  0.4898663  0.51510704 0.59370315 0.670082   0.7099682  0.6796145  0.61918277 0.57253253 0.72986746 0.99607843 1.         1.        ]\n",
            " [1.         1.         0.9929902  0.76688236 0.74967885 0.7907549  0.77505296 0.74612784 0.7236251  0.6182765  0.5899765  0.6003502  0.5717745  0.57315135 0.570949   0.5768427  0.51680434 0.5408992  0.6287898  0.6846749  0.67175645 0.6793467  0.6071125  0.5514655  0.6225686  0.9438541  1.         1.        ]\n",
            " [1.         1.         0.9660373  0.7477655  0.76429373 0.77755374 0.7924733  0.7888196  0.671371   0.6025745  0.60736704 0.5509682  0.51227254 0.518449   0.5204361  0.5355796  0.51259214 0.5644961  0.6234545  0.6754031  0.68073845 0.6616286  0.6040392  0.5498059  0.5840961  0.88770825 1.         1.        ]\n",
            " [1.         1.         0.9455286  0.7312153  0.76124233 0.81435883 0.8034196  0.73908824 0.6452514  0.5997839  0.6152251  0.5442184  0.51926744 0.48845962 0.5126     0.4940557  0.50610316 0.540051   0.60883963 0.6245706  0.6543212  0.6543063  0.6034588  0.5475659  0.57372236 0.8781608  1.         1.        ]\n",
            " [1.         1.         0.92530274 0.7124031  0.7430177  0.7946984  0.7801055  0.6736478  0.6357188  0.5868655  0.5610435  0.5226157  0.5055227  0.47328627 0.4716196  0.4606804  0.5021965  0.5237765  0.5790663  0.59732    0.6119051  0.6295933  0.59839135 0.54447764 0.57767373 0.8815318  1.         1.        ]\n",
            " [1.         1.         0.9292392  0.7045522  0.7171659  0.74947685 0.732629   0.63796586 0.624482   0.5787169  0.5456322  0.5088788  0.49345255 0.47076353 0.4721702  0.4629204  0.48703805 0.5077847  0.54650235 0.573991   0.5742737  0.57256943 0.571989   0.5439122  0.62345374 0.90765136 1.         1.        ]\n",
            " [1.         1.         0.94272316 0.7152306  0.71602    0.73430353 0.6809553  0.63542825 0.59217095 0.5489506  0.5231812  0.48645765 0.49487412 0.48198548 0.47639725 0.47723058 0.48956078 0.49543175 0.516729   0.5585498  0.552909   0.5638702  0.5587878  0.56779176 0.6759608  0.9399325  1.         1.        ]\n",
            " [1.         1.         0.97024155 0.7390953  0.69329333 0.69694704 0.6458537  0.62646115 0.60032666 0.5478494  0.51198196 0.48198548 0.48871255 0.47696275 0.47275844 0.47078627 0.45675883 0.49152508 0.4912196  0.5200772  0.5315592  0.5436145  0.5483992  0.5958757  0.724829   0.97952116 1.         1.        ]\n",
            " [1.         1.         1.         0.78881884 0.6843184  0.6694357  0.62759215 0.61015683 0.5876761  0.5399835  0.48478314 0.48170274 0.475809   0.4494812  0.43856472 0.43659255 0.4438702  0.45646822 0.47579333 0.5018455  0.5251071  0.53716236 0.56665295 0.60572076 0.78521687 0.99916667 1.         1.        ]\n",
            " [1.         1.         1.         0.8927388  0.6938808  0.65369684 0.61829764 0.5848706  0.5651953  0.5494863  0.48950824 0.46795803 0.46320313 0.43098158 0.41445413 0.41445413 0.42284784 0.43459764 0.45447335 0.48190942 0.51752394 0.54222983 0.5804345  0.6251133  0.876762   1.         1.         1.        ]\n",
            " [1.         1.         1.         0.9834427  0.78209174 0.64865136 0.61182356 0.57587373 0.54779685 0.52056825 0.5009753  0.47269803 0.45814276 0.42872667 0.4138659  0.40603766 0.4197596  0.4278706  0.44296864 0.47459412 0.5093753  0.54307806 0.59504944 0.7136     0.9761502  1.         1.         1.        ]\n",
            " [1.         1.         1.         1.         0.94637686 0.69670826 0.6087502  0.566609   0.53600943 0.5124345  0.49339217 0.46763766 0.44692078 0.4203102  0.4203102  0.41864353 0.41864353 0.42673177 0.4440698  0.48440942 0.5180894  0.5616224  0.64900786 0.90062666 1.         1.         1.         1.        ]\n",
            " [1.         1.         1.         1.         1.         0.8944204  0.62564194 0.55595255 0.5337545  0.5129851  0.49028116 0.45753175 0.45055962 0.44442078 0.44161528 0.42956    0.42842117 0.44017097 0.46171334 0.4953408  0.53382826 0.6026545  0.85457885 1.         1.         1.         1.         1.        ]\n",
            " [1.         1.         1.         1.         1.         1.         0.85483176 0.5877349  0.509629   0.50456864 0.48633686 0.46422118 0.4502541  0.43822157 0.44244862 0.44580472 0.43988824 0.45893058 0.4807706  0.50603414 0.58945334 0.82648706 1.         1.         1.         1.         1.         1.        ]\n",
            " [1.         1.         1.         1.         0.99691176 0.9929902  0.99833333 0.8941674  0.63860434 0.5099557  0.48297295 0.47876862 0.46842548 0.46283725 0.46369332 0.4704204  0.47096315 0.48050275 0.50634664 0.6299349  0.87480474 0.99916667 1.         1.         1.         1.         1.         1.        ]\n",
            " [1.         1.         1.         1.         0.99607843 0.9856976  0.9691404  0.9657843  0.93941176 0.7965055  0.60474586 0.48905334 0.45085648 0.43766314 0.4348655  0.4312792  0.4543553  0.54225373 0.7567016  0.9268137  0.9705769  0.975049   0.9893514  0.9988839  1.         1.         1.         1.        ]\n",
            " [1.         1.         1.         1.         0.99607843 0.9856976  0.97222865 0.95091647 0.92651606 0.89622194 0.82976276 0.7212298  0.6062753  0.52333415 0.49167883 0.52227056 0.6206678  0.74176115 0.8623267  0.9245816  0.94953257 0.9708447  0.9882353  0.99607843 1.         1.         1.         1.        ]\n",
            " [1.         1.         1.         1.         1.         0.99607843 0.9890686  0.98177606 0.9685898  0.9573757  0.9469949  0.9394345  0.9346796  0.9245816  0.91673845 0.9175718  0.9242988  0.9313086  0.94644433 0.9638349  0.97813725 0.9882353  0.99607843 1.         1.         1.         1.         1.        ]\n",
            " [1.         1.         1.         1.         1.         1.         1.         1.         1.         0.99607843 0.9988839  0.99916667 0.99916667 0.99916667 1.         1.         0.99916667 0.99916667 0.99607843 1.         1.         1.         1.         1.         1.         1.         1.         1.        ]]\n",
            "\n",
            "\n"
          ]
        },
        {
          "output_type": "display_data",
          "data": {
            "text/plain": [
              "<Figure size 800x800 with 2 Axes>"
            ],
            "image/png": "[encoded data removed]"
          },
          "metadata": {}
        }
      ]
    },
    {
      "cell_type": "code",
      "source": [
        "def train_normal():\n",
        "\n",
        "  model = tf.keras.models.Sequential([\n",
        "   tf.keras.Input(shape=(28,28)),\n",
        "   tf.keras.layers.Flatten(),\n",
        "   tf.keras.layers.Dense(128, activation=tf.nn.relu),\n",
        "   tf.keras.layers.Dense(2, activation=tf.nn.softmax)\n",
        "  ])\n",
        "  return model\n",
        "\n"
      ],
      "metadata": {
        "id": "ZT6AFZjcTtdL"
      },
      "execution_count": 201,
      "outputs": []
    },
    {
      "cell_type": "code",
      "source": [
        "def train_conv():\n",
        "  model = tf.keras.models.Sequential([\n",
        "     tf.keras.Input(shape=(28,28,1)),\n",
        "    tf.keras.layers.Conv2D(64, (3,3), activation='relu'),\n",
        "    tf.keras.layers.MaxPooling2D(2, 2),\n",
        "    tf.keras.layers.Conv2D(64, (3,3), activation='relu'),\n",
        "    tf.keras.layers.MaxPooling2D(2,2),\n",
        "\n",
        "    # Add the same layers as before\n",
        "    tf.keras.layers.Flatten(),\n",
        "     tf.keras.layers.Dense(12, activation='relu'),\n",
        "    tf.keras.layers.Dense(128, activation='relu'),\n",
        "    tf.keras.layers.Dense(2, activation='softmax')\n",
        "  ])\n",
        "  return model"
      ],
      "metadata": {
        "id": "tAyaHEBiji6r"
      },
      "execution_count": 203,
      "outputs": []
    },
    {
      "cell_type": "code",
      "source": [
        "model=train_normal()\n",
        "\n",
        "model.compile(optimizer = tf.optimizers.Adam(),\n",
        "              loss = 'sparse_categorical_crossentropy',\n",
        "              metrics=['accuracy'])\n",
        "\n",
        "model.fit(train_images, train_labels, epochs=80)\n",
        "model.summary()\n",
        "\n",
        "print(\"\\nMODEL EVALUATION:\")\n",
        "test_loss, test_accuracy = model.evaluate(test_images, test_labels, verbose=0)\n",
        "print(f'test set accuracy: {test_accuracy}')\n",
        "print(f'test set loss: {test_loss}')"
      ],
      "metadata": {
        "colab": {
          "base_uri": "https://localhost:8080/",
          "height": 1000
        },
        "id": "ThdwBlKpkU2y",
        "outputId": "cdd69812-2ef5-4675-e9e6-b3550b98fec2"
      },
      "execution_count": 171,
      "outputs": [
        {
          "output_type": "stream",
          "name": "stdout",
          "text": [
            "Epoch 1/80\n",
            "\u001b[1m1/1\u001b[0m \u001b[32m━━━━━━━━━━━━━━━━━━━━\u001b[0m\u001b[37m\u001b[0m \u001b[1m2s\u001b[0m 2s/step - accuracy: 0.3333 - loss: 0.7206\n",
            "Epoch 2/80\n",
            "\u001b[1m1/1\u001b[0m \u001b[32m━━━━━━━━━━━━━━━━━━━━\u001b[0m\u001b[37m\u001b[0m \u001b[1m0s\u001b[0m 56ms/step - accuracy: 0.5000 - loss: 1.1984\n",
            "Epoch 3/80\n",
            "\u001b[1m1/1\u001b[0m \u001b[32m━━━━━━━━━━━━━━━━━━━━\u001b[0m\u001b[37m\u001b[0m \u001b[1m0s\u001b[0m 56ms/step - accuracy: 0.5000 - loss: 0.6821\n",
            "Epoch 4/80\n",
            "\u001b[1m1/1\u001b[0m \u001b[32m━━━━━━━━━━━━━━━━━━━━\u001b[0m\u001b[37m\u001b[0m \u001b[1m0s\u001b[0m 59ms/step - accuracy: 0.5000 - loss: 0.8307\n",
            "Epoch 5/80\n",
            "\u001b[1m1/1\u001b[0m \u001b[32m━━━━━━━━━━━━━━━━━━━━\u001b[0m\u001b[37m\u001b[0m \u001b[1m0s\u001b[0m 60ms/step - accuracy: 0.7500 - loss: 0.5198\n",
            "Epoch 6/80\n",
            "\u001b[1m1/1\u001b[0m \u001b[32m━━━━━━━━━━━━━━━━━━━━\u001b[0m\u001b[37m\u001b[0m \u001b[1m0s\u001b[0m 57ms/step - accuracy: 0.5000 - loss: 0.5828\n",
            "Epoch 7/80\n",
            "\u001b[1m1/1\u001b[0m \u001b[32m━━━━━━━━━━━━━━━━━━━━\u001b[0m\u001b[37m\u001b[0m \u001b[1m0s\u001b[0m 40ms/step - accuracy: 0.5000 - loss: 0.6511\n",
            "Epoch 8/80\n",
            "\u001b[1m1/1\u001b[0m \u001b[32m━━━━━━━━━━━━━━━━━━━━\u001b[0m\u001b[37m\u001b[0m \u001b[1m0s\u001b[0m 55ms/step - accuracy: 0.5833 - loss: 0.5003\n",
            "Epoch 9/80\n",
            "\u001b[1m1/1\u001b[0m \u001b[32m━━━━━━━━━━━━━━━━━━━━\u001b[0m\u001b[37m\u001b[0m \u001b[1m0s\u001b[0m 41ms/step - accuracy: 0.8333 - loss: 0.4370\n",
            "Epoch 10/80\n",
            "\u001b[1m1/1\u001b[0m \u001b[32m━━━━━━━━━━━━━━━━━━━━\u001b[0m\u001b[37m\u001b[0m \u001b[1m0s\u001b[0m 42ms/step - accuracy: 0.6667 - loss: 0.5173\n",
            "Epoch 11/80\n",
            "\u001b[1m1/1\u001b[0m \u001b[32m━━━━━━━━━━━━━━━━━━━━\u001b[0m\u001b[37m\u001b[0m \u001b[1m0s\u001b[0m 56ms/step - accuracy: 0.7500 - loss: 0.4910\n",
            "Epoch 12/80\n",
            "\u001b[1m1/1\u001b[0m \u001b[32m━━━━━━━━━━━━━━━━━━━━\u001b[0m\u001b[37m\u001b[0m \u001b[1m0s\u001b[0m 43ms/step - accuracy: 0.9167 - loss: 0.3898\n",
            "Epoch 13/80\n",
            "\u001b[1m1/1\u001b[0m \u001b[32m━━━━━━━━━━━━━━━━━━━━\u001b[0m\u001b[37m\u001b[0m \u001b[1m0s\u001b[0m 44ms/step - accuracy: 1.0000 - loss: 0.3794\n",
            "Epoch 14/80\n",
            "\u001b[1m1/1\u001b[0m \u001b[32m━━━━━━━━━━━━━━━━━━━━\u001b[0m\u001b[37m\u001b[0m \u001b[1m0s\u001b[0m 139ms/step - accuracy: 0.6667 - loss: 0.4194\n",
            "Epoch 15/80\n",
            "\u001b[1m1/1\u001b[0m \u001b[32m━━━━━━━━━━━━━━━━━━━━\u001b[0m\u001b[37m\u001b[0m \u001b[1m0s\u001b[0m 60ms/step - accuracy: 0.9167 - loss: 0.3882\n",
            "Epoch 16/80\n",
            "\u001b[1m1/1\u001b[0m \u001b[32m━━━━━━━━━━━━━━━━━━━━\u001b[0m\u001b[37m\u001b[0m \u001b[1m0s\u001b[0m 42ms/step - accuracy: 1.0000 - loss: 0.3222\n",
            "Epoch 17/80\n",
            "\u001b[1m1/1\u001b[0m \u001b[32m━━━━━━━━━━━━━━━━━━━━\u001b[0m\u001b[37m\u001b[0m \u001b[1m0s\u001b[0m 56ms/step - accuracy: 0.9167 - loss: 0.3137\n",
            "Epoch 18/80\n",
            "\u001b[1m1/1\u001b[0m \u001b[32m━━━━━━━━━━━━━━━━━━━━\u001b[0m\u001b[37m\u001b[0m \u001b[1m0s\u001b[0m 59ms/step - accuracy: 0.9167 - loss: 0.3338\n",
            "Epoch 19/80\n",
            "\u001b[1m1/1\u001b[0m \u001b[32m━━━━━━━━━━━━━━━━━━━━\u001b[0m\u001b[37m\u001b[0m \u001b[1m0s\u001b[0m 49ms/step - accuracy: 0.9167 - loss: 0.3124\n",
            "Epoch 20/80\n",
            "\u001b[1m1/1\u001b[0m \u001b[32m━━━━━━━━━━━━━━━━━━━━\u001b[0m\u001b[37m\u001b[0m \u001b[1m0s\u001b[0m 139ms/step - accuracy: 1.0000 - loss: 0.2686\n",
            "Epoch 21/80\n",
            "\u001b[1m1/1\u001b[0m \u001b[32m━━━━━━━━━━━━━━━━━━━━\u001b[0m\u001b[37m\u001b[0m \u001b[1m0s\u001b[0m 125ms/step - accuracy: 1.0000 - loss: 0.2580\n",
            "Epoch 22/80\n",
            "\u001b[1m1/1\u001b[0m \u001b[32m━━━━━━━━━━━━━━━━━━━━\u001b[0m\u001b[37m\u001b[0m \u001b[1m0s\u001b[0m 44ms/step - accuracy: 1.0000 - loss: 0.2690\n",
            "Epoch 23/80\n",
            "\u001b[1m1/1\u001b[0m \u001b[32m━━━━━━━━━━━━━━━━━━━━\u001b[0m\u001b[37m\u001b[0m \u001b[1m0s\u001b[0m 63ms/step - accuracy: 1.0000 - loss: 0.2560\n",
            "Epoch 24/80\n",
            "\u001b[1m1/1\u001b[0m \u001b[32m━━━━━━━━━━━━━━━━━━━━\u001b[0m\u001b[37m\u001b[0m \u001b[1m0s\u001b[0m 53ms/step - accuracy: 1.0000 - loss: 0.2255\n",
            "Epoch 25/80\n",
            "\u001b[1m1/1\u001b[0m \u001b[32m━━━━━━━━━━━━━━━━━━━━\u001b[0m\u001b[37m\u001b[0m \u001b[1m0s\u001b[0m 50ms/step - accuracy: 1.0000 - loss: 0.2128\n",
            "Epoch 26/80\n",
            "\u001b[1m1/1\u001b[0m \u001b[32m━━━━━━━━━━━━━━━━━━━━\u001b[0m\u001b[37m\u001b[0m \u001b[1m0s\u001b[0m 49ms/step - accuracy: 1.0000 - loss: 0.2167\n",
            "Epoch 27/80\n",
            "\u001b[1m1/1\u001b[0m \u001b[32m━━━━━━━━━━━━━━━━━━━━\u001b[0m\u001b[37m\u001b[0m \u001b[1m0s\u001b[0m 59ms/step - accuracy: 1.0000 - loss: 0.2100\n",
            "Epoch 28/80\n",
            "\u001b[1m1/1\u001b[0m \u001b[32m━━━━━━━━━━━━━━━━━━━━\u001b[0m\u001b[37m\u001b[0m \u001b[1m0s\u001b[0m 53ms/step - accuracy: 1.0000 - loss: 0.1897\n",
            "Epoch 29/80\n",
            "\u001b[1m1/1\u001b[0m \u001b[32m━━━━━━━━━━━━━━━━━━━━\u001b[0m\u001b[37m\u001b[0m \u001b[1m0s\u001b[0m 52ms/step - accuracy: 1.0000 - loss: 0.1762\n",
            "Epoch 30/80\n",
            "\u001b[1m1/1\u001b[0m \u001b[32m━━━━━━━━━━━━━━━━━━━━\u001b[0m\u001b[37m\u001b[0m \u001b[1m0s\u001b[0m 58ms/step - accuracy: 1.0000 - loss: 0.1753\n",
            "Epoch 31/80\n",
            "\u001b[1m1/1\u001b[0m \u001b[32m━━━━━━━━━━━━━━━━━━━━\u001b[0m\u001b[37m\u001b[0m \u001b[1m0s\u001b[0m 52ms/step - accuracy: 1.0000 - loss: 0.1727\n",
            "Epoch 32/80\n",
            "\u001b[1m1/1\u001b[0m \u001b[32m━━━━━━━━━━━━━━━━━━━━\u001b[0m\u001b[37m\u001b[0m \u001b[1m0s\u001b[0m 61ms/step - accuracy: 1.0000 - loss: 0.1604\n",
            "Epoch 33/80\n",
            "\u001b[1m1/1\u001b[0m \u001b[32m━━━━━━━━━━━━━━━━━━━━\u001b[0m\u001b[37m\u001b[0m \u001b[1m0s\u001b[0m 56ms/step - accuracy: 1.0000 - loss: 0.1478\n",
            "Epoch 34/80\n",
            "\u001b[1m1/1\u001b[0m \u001b[32m━━━━━━━━━━━━━━━━━━━━\u001b[0m\u001b[37m\u001b[0m \u001b[1m0s\u001b[0m 42ms/step - accuracy: 1.0000 - loss: 0.1431\n",
            "Epoch 35/80\n",
            "\u001b[1m1/1\u001b[0m \u001b[32m━━━━━━━━━━━━━━━━━━━━\u001b[0m\u001b[37m\u001b[0m \u001b[1m0s\u001b[0m 38ms/step - accuracy: 1.0000 - loss: 0.1416\n",
            "Epoch 36/80\n",
            "\u001b[1m1/1\u001b[0m \u001b[32m━━━━━━━━━━━━━━━━━━━━\u001b[0m\u001b[37m\u001b[0m \u001b[1m0s\u001b[0m 57ms/step - accuracy: 1.0000 - loss: 0.1352\n",
            "Epoch 37/80\n",
            "\u001b[1m1/1\u001b[0m \u001b[32m━━━━━━━━━━━━━━━━━━━━\u001b[0m\u001b[37m\u001b[0m \u001b[1m0s\u001b[0m 39ms/step - accuracy: 1.0000 - loss: 0.1255\n",
            "Epoch 38/80\n",
            "\u001b[1m1/1\u001b[0m \u001b[32m━━━━━━━━━━━━━━━━━━━━\u001b[0m\u001b[37m\u001b[0m \u001b[1m0s\u001b[0m 52ms/step - accuracy: 1.0000 - loss: 0.1189\n",
            "Epoch 39/80\n",
            "\u001b[1m1/1\u001b[0m \u001b[32m━━━━━━━━━━━━━━━━━━━━\u001b[0m\u001b[37m\u001b[0m \u001b[1m0s\u001b[0m 32ms/step - accuracy: 1.0000 - loss: 0.1164\n",
            "Epoch 40/80\n",
            "\u001b[1m1/1\u001b[0m \u001b[32m━━━━━━━━━━━━━━━━━━━━\u001b[0m\u001b[37m\u001b[0m \u001b[1m0s\u001b[0m 29ms/step - accuracy: 1.0000 - loss: 0.1134\n",
            "Epoch 41/80\n",
            "\u001b[1m1/1\u001b[0m \u001b[32m━━━━━━━━━━━━━━━━━━━━\u001b[0m\u001b[37m\u001b[0m \u001b[1m0s\u001b[0m 56ms/step - accuracy: 1.0000 - loss: 0.1074\n",
            "Epoch 42/80\n",
            "\u001b[1m1/1\u001b[0m \u001b[32m━━━━━━━━━━━━━━━━━━━━\u001b[0m\u001b[37m\u001b[0m \u001b[1m0s\u001b[0m 58ms/step - accuracy: 1.0000 - loss: 0.1010\n",
            "Epoch 43/80\n",
            "\u001b[1m1/1\u001b[0m \u001b[32m━━━━━━━━━━━━━━━━━━━━\u001b[0m\u001b[37m\u001b[0m \u001b[1m0s\u001b[0m 52ms/step - accuracy: 1.0000 - loss: 0.0969\n",
            "Epoch 44/80\n",
            "\u001b[1m1/1\u001b[0m \u001b[32m━━━━━━━━━━━━━━━━━━━━\u001b[0m\u001b[37m\u001b[0m \u001b[1m0s\u001b[0m 30ms/step - accuracy: 1.0000 - loss: 0.0946\n",
            "Epoch 45/80\n",
            "\u001b[1m1/1\u001b[0m \u001b[32m━━━━━━━━━━━━━━━━━━━━\u001b[0m\u001b[37m\u001b[0m \u001b[1m0s\u001b[0m 30ms/step - accuracy: 1.0000 - loss: 0.0916\n",
            "Epoch 46/80\n",
            "\u001b[1m1/1\u001b[0m \u001b[32m━━━━━━━━━━━━━━━━━━━━\u001b[0m\u001b[37m\u001b[0m \u001b[1m0s\u001b[0m 31ms/step - accuracy: 1.0000 - loss: 0.0870\n",
            "Epoch 47/80\n",
            "\u001b[1m1/1\u001b[0m \u001b[32m━━━━━━━━━━━━━━━━━━━━\u001b[0m\u001b[37m\u001b[0m \u001b[1m0s\u001b[0m 40ms/step - accuracy: 1.0000 - loss: 0.0826\n",
            "Epoch 48/80\n",
            "\u001b[1m1/1\u001b[0m \u001b[32m━━━━━━━━━━━━━━━━━━━━\u001b[0m\u001b[37m\u001b[0m \u001b[1m0s\u001b[0m 30ms/step - accuracy: 1.0000 - loss: 0.0797\n",
            "Epoch 49/80\n",
            "\u001b[1m1/1\u001b[0m \u001b[32m━━━━━━━━━━━━━━━━━━━━\u001b[0m\u001b[37m\u001b[0m \u001b[1m0s\u001b[0m 32ms/step - accuracy: 1.0000 - loss: 0.0777\n",
            "Epoch 50/80\n",
            "\u001b[1m1/1\u001b[0m \u001b[32m━━━━━━━━━━━━━━━━━━━━\u001b[0m\u001b[37m\u001b[0m \u001b[1m0s\u001b[0m 31ms/step - accuracy: 1.0000 - loss: 0.0750\n",
            "Epoch 51/80\n",
            "\u001b[1m1/1\u001b[0m \u001b[32m━━━━━━━━━━━━━━━━━━━━\u001b[0m\u001b[37m\u001b[0m \u001b[1m0s\u001b[0m 58ms/step - accuracy: 1.0000 - loss: 0.0717\n",
            "Epoch 52/80\n",
            "\u001b[1m1/1\u001b[0m \u001b[32m━━━━━━━━━━━━━━━━━━━━\u001b[0m\u001b[37m\u001b[0m \u001b[1m0s\u001b[0m 35ms/step - accuracy: 1.0000 - loss: 0.0686\n",
            "Epoch 53/80\n",
            "\u001b[1m1/1\u001b[0m \u001b[32m━━━━━━━━━━━━━━━━━━━━\u001b[0m\u001b[37m\u001b[0m \u001b[1m0s\u001b[0m 62ms/step - accuracy: 1.0000 - loss: 0.0662\n",
            "Epoch 54/80\n",
            "\u001b[1m1/1\u001b[0m \u001b[32m━━━━━━━━━━━━━━━━━━━━\u001b[0m\u001b[37m\u001b[0m \u001b[1m0s\u001b[0m 40ms/step - accuracy: 1.0000 - loss: 0.0644\n",
            "Epoch 55/80\n",
            "\u001b[1m1/1\u001b[0m \u001b[32m━━━━━━━━━━━━━━━━━━━━\u001b[0m\u001b[37m\u001b[0m \u001b[1m0s\u001b[0m 41ms/step - accuracy: 1.0000 - loss: 0.0624\n",
            "Epoch 56/80\n",
            "\u001b[1m1/1\u001b[0m \u001b[32m━━━━━━━━━━━━━━━━━━━━\u001b[0m\u001b[37m\u001b[0m \u001b[1m0s\u001b[0m 55ms/step - accuracy: 1.0000 - loss: 0.0600\n",
            "Epoch 57/80\n",
            "\u001b[1m1/1\u001b[0m \u001b[32m━━━━━━━━━━━━━━━━━━━━\u001b[0m\u001b[37m\u001b[0m \u001b[1m0s\u001b[0m 57ms/step - accuracy: 1.0000 - loss: 0.0576\n",
            "Epoch 58/80\n",
            "\u001b[1m1/1\u001b[0m \u001b[32m━━━━━━━━━━━━━━━━━━━━\u001b[0m\u001b[37m\u001b[0m \u001b[1m0s\u001b[0m 40ms/step - accuracy: 1.0000 - loss: 0.0557\n",
            "Epoch 59/80\n",
            "\u001b[1m1/1\u001b[0m \u001b[32m━━━━━━━━━━━━━━━━━━━━\u001b[0m\u001b[37m\u001b[0m \u001b[1m0s\u001b[0m 53ms/step - accuracy: 1.0000 - loss: 0.0542\n",
            "Epoch 60/80\n",
            "\u001b[1m1/1\u001b[0m \u001b[32m━━━━━━━━━━━━━━━━━━━━\u001b[0m\u001b[37m\u001b[0m \u001b[1m0s\u001b[0m 56ms/step - accuracy: 1.0000 - loss: 0.0526\n",
            "Epoch 61/80\n",
            "\u001b[1m1/1\u001b[0m \u001b[32m━━━━━━━━━━━━━━━━━━━━\u001b[0m\u001b[37m\u001b[0m \u001b[1m0s\u001b[0m 58ms/step - accuracy: 1.0000 - loss: 0.0508\n",
            "Epoch 62/80\n",
            "\u001b[1m1/1\u001b[0m \u001b[32m━━━━━━━━━━━━━━━━━━━━\u001b[0m\u001b[37m\u001b[0m \u001b[1m0s\u001b[0m 56ms/step - accuracy: 1.0000 - loss: 0.0490\n",
            "Epoch 63/80\n",
            "\u001b[1m1/1\u001b[0m \u001b[32m━━━━━━━━━━━━━━━━━━━━\u001b[0m\u001b[37m\u001b[0m \u001b[1m0s\u001b[0m 31ms/step - accuracy: 1.0000 - loss: 0.0474\n",
            "Epoch 64/80\n",
            "\u001b[1m1/1\u001b[0m \u001b[32m━━━━━━━━━━━━━━━━━━━━\u001b[0m\u001b[37m\u001b[0m \u001b[1m0s\u001b[0m 30ms/step - accuracy: 1.0000 - loss: 0.0461\n",
            "Epoch 65/80\n",
            "\u001b[1m1/1\u001b[0m \u001b[32m━━━━━━━━━━━━━━━━━━━━\u001b[0m\u001b[37m\u001b[0m \u001b[1m0s\u001b[0m 29ms/step - accuracy: 1.0000 - loss: 0.0448\n",
            "Epoch 66/80\n",
            "\u001b[1m1/1\u001b[0m \u001b[32m━━━━━━━━━━━━━━━━━━━━\u001b[0m\u001b[37m\u001b[0m \u001b[1m0s\u001b[0m 30ms/step - accuracy: 1.0000 - loss: 0.0435\n",
            "Epoch 67/80\n",
            "\u001b[1m1/1\u001b[0m \u001b[32m━━━━━━━━━━━━━━━━━━━━\u001b[0m\u001b[37m\u001b[0m \u001b[1m0s\u001b[0m 30ms/step - accuracy: 1.0000 - loss: 0.0421\n",
            "Epoch 68/80\n",
            "\u001b[1m1/1\u001b[0m \u001b[32m━━━━━━━━━━━━━━━━━━━━\u001b[0m\u001b[37m\u001b[0m \u001b[1m0s\u001b[0m 55ms/step - accuracy: 1.0000 - loss: 0.0408\n",
            "Epoch 69/80\n",
            "\u001b[1m1/1\u001b[0m \u001b[32m━━━━━━━━━━━━━━━━━━━━\u001b[0m\u001b[37m\u001b[0m \u001b[1m0s\u001b[0m 55ms/step - accuracy: 1.0000 - loss: 0.0397\n",
            "Epoch 70/80\n",
            "\u001b[1m1/1\u001b[0m \u001b[32m━━━━━━━━━━━━━━━━━━━━\u001b[0m\u001b[37m\u001b[0m \u001b[1m0s\u001b[0m 30ms/step - accuracy: 1.0000 - loss: 0.0386\n",
            "Epoch 71/80\n",
            "\u001b[1m1/1\u001b[0m \u001b[32m━━━━━━━━━━━━━━━━━━━━\u001b[0m\u001b[37m\u001b[0m \u001b[1m0s\u001b[0m 29ms/step - accuracy: 1.0000 - loss: 0.0376\n",
            "Epoch 72/80\n",
            "\u001b[1m1/1\u001b[0m \u001b[32m━━━━━━━━━━━━━━━━━━━━\u001b[0m\u001b[37m\u001b[0m \u001b[1m0s\u001b[0m 31ms/step - accuracy: 1.0000 - loss: 0.0366\n",
            "Epoch 73/80\n",
            "\u001b[1m1/1\u001b[0m \u001b[32m━━━━━━━━━━━━━━━━━━━━\u001b[0m\u001b[37m\u001b[0m \u001b[1m0s\u001b[0m 38ms/step - accuracy: 1.0000 - loss: 0.0355\n",
            "Epoch 74/80\n",
            "\u001b[1m1/1\u001b[0m \u001b[32m━━━━━━━━━━━━━━━━━━━━\u001b[0m\u001b[37m\u001b[0m \u001b[1m0s\u001b[0m 36ms/step - accuracy: 1.0000 - loss: 0.0345\n",
            "Epoch 75/80\n",
            "\u001b[1m1/1\u001b[0m \u001b[32m━━━━━━━━━━━━━━━━━━━━\u001b[0m\u001b[37m\u001b[0m \u001b[1m0s\u001b[0m 39ms/step - accuracy: 1.0000 - loss: 0.0337\n",
            "Epoch 76/80\n",
            "\u001b[1m1/1\u001b[0m \u001b[32m━━━━━━━━━━━━━━━━━━━━\u001b[0m\u001b[37m\u001b[0m \u001b[1m0s\u001b[0m 53ms/step - accuracy: 1.0000 - loss: 0.0328\n",
            "Epoch 77/80\n",
            "\u001b[1m1/1\u001b[0m \u001b[32m━━━━━━━━━━━━━━━━━━━━\u001b[0m\u001b[37m\u001b[0m \u001b[1m0s\u001b[0m 55ms/step - accuracy: 1.0000 - loss: 0.0320\n",
            "Epoch 78/80\n",
            "\u001b[1m1/1\u001b[0m \u001b[32m━━━━━━━━━━━━━━━━━━━━\u001b[0m\u001b[37m\u001b[0m \u001b[1m0s\u001b[0m 35ms/step - accuracy: 1.0000 - loss: 0.0312\n",
            "Epoch 79/80\n",
            "\u001b[1m1/1\u001b[0m \u001b[32m━━━━━━━━━━━━━━━━━━━━\u001b[0m\u001b[37m\u001b[0m \u001b[1m0s\u001b[0m 37ms/step - accuracy: 1.0000 - loss: 0.0303\n",
            "Epoch 80/80\n",
            "\u001b[1m1/1\u001b[0m \u001b[32m━━━━━━━━━━━━━━━━━━━━\u001b[0m\u001b[37m\u001b[0m \u001b[1m0s\u001b[0m 55ms/step - accuracy: 1.0000 - loss: 0.0296\n"
          ]
        },
        {
          "output_type": "display_data",
          "data": {
            "text/plain": [
              "\u001b[1mModel: \"sequential_16\"\u001b[0m\n"
            ],
            "text/html": [
              "<pre style=\"white-space:pre;overflow-x:auto;line-height:normal;font-family:Menlo,'DejaVu Sans Mono',consolas,'Courier New',monospace\"><span style=\"font-weight: bold\">Model: \"sequential_16\"</span>\n",
              "</pre>\n"
            ]
          },
          "metadata": {}
        },
        {
          "output_type": "display_data",
          "data": {
            "text/plain": [
              "┏━━━━━━━━━━━━━━━━━━━━━━━━━━━━━━━━━━━━━━┳━━━━━━━━━━━━━━━━━━━━━━━━━━━━━┳━━━━━━━━━━━━━━━━━┓\n",
              "┃\u001b[1m \u001b[0m\u001b[1mLayer (type)                        \u001b[0m\u001b[1m \u001b[0m┃\u001b[1m \u001b[0m\u001b[1mOutput Shape               \u001b[0m\u001b[1m \u001b[0m┃\u001b[1m \u001b[0m\u001b[1m        Param #\u001b[0m\u001b[1m \u001b[0m┃\n",
              "┡━━━━━━━━━━━━━━━━━━━━━━━━━━━━━━━━━━━━━━╇━━━━━━━━━━━━━━━━━━━━━━━━━━━━━╇━━━━━━━━━━━━━━━━━┩\n",
              "│ flatten_16 (\u001b[38;5;33mFlatten\u001b[0m)                 │ (\u001b[38;5;45mNone\u001b[0m, \u001b[38;5;34m784\u001b[0m)                 │               \u001b[38;5;34m0\u001b[0m │\n",
              "├──────────────────────────────────────┼─────────────────────────────┼─────────────────┤\n",
              "│ dense_32 (\u001b[38;5;33mDense\u001b[0m)                     │ (\u001b[38;5;45mNone\u001b[0m, \u001b[38;5;34m128\u001b[0m)                 │         \u001b[38;5;34m100,480\u001b[0m │\n",
              "├──────────────────────────────────────┼─────────────────────────────┼─────────────────┤\n",
              "│ dense_33 (\u001b[38;5;33mDense\u001b[0m)                     │ (\u001b[38;5;45mNone\u001b[0m, \u001b[38;5;34m2\u001b[0m)                   │             \u001b[38;5;34m258\u001b[0m │\n",
              "└──────────────────────────────────────┴─────────────────────────────┴─────────────────┘\n"
            ],
            "text/html": [
              "<pre style=\"white-space:pre;overflow-x:auto;line-height:normal;font-family:Menlo,'DejaVu Sans Mono',consolas,'Courier New',monospace\">┏━━━━━━━━━━━━━━━━━━━━━━━━━━━━━━━━━━━━━━┳━━━━━━━━━━━━━━━━━━━━━━━━━━━━━┳━━━━━━━━━━━━━━━━━┓\n",
              "┃<span style=\"font-weight: bold\"> Layer (type)                         </span>┃<span style=\"font-weight: bold\"> Output Shape                </span>┃<span style=\"font-weight: bold\">         Param # </span>┃\n",
              "┡━━━━━━━━━━━━━━━━━━━━━━━━━━━━━━━━━━━━━━╇━━━━━━━━━━━━━━━━━━━━━━━━━━━━━╇━━━━━━━━━━━━━━━━━┩\n",
              "│ flatten_16 (<span style=\"color: #0087ff; text-decoration-color: #0087ff\">Flatten</span>)                 │ (<span style=\"color: #00d7ff; text-decoration-color: #00d7ff\">None</span>, <span style=\"color: #00af00; text-decoration-color: #00af00\">784</span>)                 │               <span style=\"color: #00af00; text-decoration-color: #00af00\">0</span> │\n",
              "├──────────────────────────────────────┼─────────────────────────────┼─────────────────┤\n",
              "│ dense_32 (<span style=\"color: #0087ff; text-decoration-color: #0087ff\">Dense</span>)                     │ (<span style=\"color: #00d7ff; text-decoration-color: #00d7ff\">None</span>, <span style=\"color: #00af00; text-decoration-color: #00af00\">128</span>)                 │         <span style=\"color: #00af00; text-decoration-color: #00af00\">100,480</span> │\n",
              "├──────────────────────────────────────┼─────────────────────────────┼─────────────────┤\n",
              "│ dense_33 (<span style=\"color: #0087ff; text-decoration-color: #0087ff\">Dense</span>)                     │ (<span style=\"color: #00d7ff; text-decoration-color: #00d7ff\">None</span>, <span style=\"color: #00af00; text-decoration-color: #00af00\">2</span>)                   │             <span style=\"color: #00af00; text-decoration-color: #00af00\">258</span> │\n",
              "└──────────────────────────────────────┴─────────────────────────────┴─────────────────┘\n",
              "</pre>\n"
            ]
          },
          "metadata": {}
        },
        {
          "output_type": "display_data",
          "data": {
            "text/plain": [
              "\u001b[1m Total params: \u001b[0m\u001b[38;5;34m302,216\u001b[0m (1.15 MB)\n"
            ],
            "text/html": [
              "<pre style=\"white-space:pre;overflow-x:auto;line-height:normal;font-family:Menlo,'DejaVu Sans Mono',consolas,'Courier New',monospace\"><span style=\"font-weight: bold\"> Total params: </span><span style=\"color: #00af00; text-decoration-color: #00af00\">302,216</span> (1.15 MB)\n",
              "</pre>\n"
            ]
          },
          "metadata": {}
        },
        {
          "output_type": "display_data",
          "data": {
            "text/plain": [
              "\u001b[1m Trainable params: \u001b[0m\u001b[38;5;34m100,738\u001b[0m (393.51 KB)\n"
            ],
            "text/html": [
              "<pre style=\"white-space:pre;overflow-x:auto;line-height:normal;font-family:Menlo,'DejaVu Sans Mono',consolas,'Courier New',monospace\"><span style=\"font-weight: bold\"> Trainable params: </span><span style=\"color: #00af00; text-decoration-color: #00af00\">100,738</span> (393.51 KB)\n",
              "</pre>\n"
            ]
          },
          "metadata": {}
        },
        {
          "output_type": "display_data",
          "data": {
            "text/plain": [
              "\u001b[1m Non-trainable params: \u001b[0m\u001b[38;5;34m0\u001b[0m (0.00 B)\n"
            ],
            "text/html": [
              "<pre style=\"white-space:pre;overflow-x:auto;line-height:normal;font-family:Menlo,'DejaVu Sans Mono',consolas,'Courier New',monospace\"><span style=\"font-weight: bold\"> Non-trainable params: </span><span style=\"color: #00af00; text-decoration-color: #00af00\">0</span> (0.00 B)\n",
              "</pre>\n"
            ]
          },
          "metadata": {}
        },
        {
          "output_type": "display_data",
          "data": {
            "text/plain": [
              "\u001b[1m Optimizer params: \u001b[0m\u001b[38;5;34m201,478\u001b[0m (787.03 KB)\n"
            ],
            "text/html": [
              "<pre style=\"white-space:pre;overflow-x:auto;line-height:normal;font-family:Menlo,'DejaVu Sans Mono',consolas,'Courier New',monospace\"><span style=\"font-weight: bold\"> Optimizer params: </span><span style=\"color: #00af00; text-decoration-color: #00af00\">201,478</span> (787.03 KB)\n",
              "</pre>\n"
            ]
          },
          "metadata": {}
        },
        {
          "output_type": "stream",
          "name": "stdout",
          "text": [
            "\n",
            "MODEL EVALUATION:\n",
            "test set accuracy: 0.6666666865348816\n",
            "test set loss: 1.482742428779602\n"
          ]
        }
      ]
    },
    {
      "cell_type": "code",
      "source": [
        "model=train_conv()\n",
        "\n",
        "model.compile(optimizer = tf.optimizers.Adam(),\n",
        "              loss = 'sparse_categorical_crossentropy',\n",
        "              metrics=['accuracy'])\n",
        "\n",
        "model.fit(train_images, train_labels, epochs=70)\n",
        "model.summary()\n",
        "\n",
        "print(\"\\nMODEL EVALUATION:\")\n",
        "test_loss, test_accuracy = model.evaluate(test_images, test_labels, verbose=0)\n",
        "print(f'test set accuracy: {test_accuracy}')\n",
        "print(f'test set loss: {test_loss}')"
      ],
      "metadata": {
        "colab": {
          "base_uri": "https://localhost:8080/",
          "height": 1000
        },
        "id": "hdsAOVuaUTqp",
        "outputId": "07bb0889-7351-4e32-eb64-b909bedd5b37"
      },
      "execution_count": 204,
      "outputs": [
        {
          "output_type": "stream",
          "name": "stdout",
          "text": [
            "Epoch 1/70\n",
            "\u001b[1m1/1\u001b[0m \u001b[32m━━━━━━━━━━━━━━━━━━━━\u001b[0m\u001b[37m\u001b[0m \u001b[1m3s\u001b[0m 3s/step - accuracy: 0.5000 - loss: 0.6909\n",
            "Epoch 2/70\n",
            "\u001b[1m1/1\u001b[0m \u001b[32m━━━━━━━━━━━━━━━━━━━━\u001b[0m\u001b[37m\u001b[0m \u001b[1m0s\u001b[0m 140ms/step - accuracy: 0.5000 - loss: 0.6864\n",
            "Epoch 3/70\n",
            "\u001b[1m1/1\u001b[0m \u001b[32m━━━━━━━━━━━━━━━━━━━━\u001b[0m\u001b[37m\u001b[0m \u001b[1m0s\u001b[0m 140ms/step - accuracy: 0.5000 - loss: 0.6778\n",
            "Epoch 4/70\n",
            "\u001b[1m1/1\u001b[0m \u001b[32m━━━━━━━━━━━━━━━━━━━━\u001b[0m\u001b[37m\u001b[0m \u001b[1m0s\u001b[0m 135ms/step - accuracy: 0.5000 - loss: 0.6730\n",
            "Epoch 5/70\n",
            "\u001b[1m1/1\u001b[0m \u001b[32m━━━━━━━━━━━━━━━━━━━━\u001b[0m\u001b[37m\u001b[0m \u001b[1m0s\u001b[0m 62ms/step - accuracy: 0.5000 - loss: 0.6630\n",
            "Epoch 6/70\n",
            "\u001b[1m1/1\u001b[0m \u001b[32m━━━━━━━━━━━━━━━━━━━━\u001b[0m\u001b[37m\u001b[0m \u001b[1m0s\u001b[0m 54ms/step - accuracy: 0.8333 - loss: 0.6545\n",
            "Epoch 7/70\n",
            "\u001b[1m1/1\u001b[0m \u001b[32m━━━━━━━━━━━━━━━━━━━━\u001b[0m\u001b[37m\u001b[0m \u001b[1m0s\u001b[0m 44ms/step - accuracy: 0.9167 - loss: 0.6441\n",
            "Epoch 8/70\n",
            "\u001b[1m1/1\u001b[0m \u001b[32m━━━━━━━━━━━━━━━━━━━━\u001b[0m\u001b[37m\u001b[0m \u001b[1m0s\u001b[0m 42ms/step - accuracy: 0.6667 - loss: 0.6303\n",
            "Epoch 9/70\n",
            "\u001b[1m1/1\u001b[0m \u001b[32m━━━━━━━━━━━━━━━━━━━━\u001b[0m\u001b[37m\u001b[0m \u001b[1m0s\u001b[0m 59ms/step - accuracy: 0.5000 - loss: 0.6167\n",
            "Epoch 10/70\n",
            "\u001b[1m1/1\u001b[0m \u001b[32m━━━━━━━━━━━━━━━━━━━━\u001b[0m\u001b[37m\u001b[0m \u001b[1m0s\u001b[0m 56ms/step - accuracy: 0.5000 - loss: 0.6005\n",
            "Epoch 11/70\n",
            "\u001b[1m1/1\u001b[0m \u001b[32m━━━━━━━━━━━━━━━━━━━━\u001b[0m\u001b[37m\u001b[0m \u001b[1m0s\u001b[0m 58ms/step - accuracy: 0.7500 - loss: 0.5790\n",
            "Epoch 12/70\n",
            "\u001b[1m1/1\u001b[0m \u001b[32m━━━━━━━━━━━━━━━━━━━━\u001b[0m\u001b[37m\u001b[0m \u001b[1m0s\u001b[0m 57ms/step - accuracy: 1.0000 - loss: 0.5550\n",
            "Epoch 13/70\n",
            "\u001b[1m1/1\u001b[0m \u001b[32m━━━━━━━━━━━━━━━━━━━━\u001b[0m\u001b[37m\u001b[0m \u001b[1m0s\u001b[0m 43ms/step - accuracy: 1.0000 - loss: 0.5286\n",
            "Epoch 14/70\n",
            "\u001b[1m1/1\u001b[0m \u001b[32m━━━━━━━━━━━━━━━━━━━━\u001b[0m\u001b[37m\u001b[0m \u001b[1m0s\u001b[0m 43ms/step - accuracy: 1.0000 - loss: 0.4970\n",
            "Epoch 15/70\n",
            "\u001b[1m1/1\u001b[0m \u001b[32m━━━━━━━━━━━━━━━━━━━━\u001b[0m\u001b[37m\u001b[0m \u001b[1m0s\u001b[0m 42ms/step - accuracy: 1.0000 - loss: 0.4640\n",
            "Epoch 16/70\n",
            "\u001b[1m1/1\u001b[0m \u001b[32m━━━━━━━━━━━━━━━━━━━━\u001b[0m\u001b[37m\u001b[0m \u001b[1m0s\u001b[0m 57ms/step - accuracy: 1.0000 - loss: 0.4278\n",
            "Epoch 17/70\n",
            "\u001b[1m1/1\u001b[0m \u001b[32m━━━━━━━━━━━━━━━━━━━━\u001b[0m\u001b[37m\u001b[0m \u001b[1m0s\u001b[0m 57ms/step - accuracy: 1.0000 - loss: 0.3883\n",
            "Epoch 18/70\n",
            "\u001b[1m1/1\u001b[0m \u001b[32m━━━━━━━━━━━━━━━━━━━━\u001b[0m\u001b[37m\u001b[0m \u001b[1m0s\u001b[0m 58ms/step - accuracy: 1.0000 - loss: 0.3457\n",
            "Epoch 19/70\n",
            "\u001b[1m1/1\u001b[0m \u001b[32m━━━━━━━━━━━━━━━━━━━━\u001b[0m\u001b[37m\u001b[0m \u001b[1m0s\u001b[0m 43ms/step - accuracy: 1.0000 - loss: 0.3018\n",
            "Epoch 20/70\n",
            "\u001b[1m1/1\u001b[0m \u001b[32m━━━━━━━━━━━━━━━━━━━━\u001b[0m\u001b[37m\u001b[0m \u001b[1m0s\u001b[0m 41ms/step - accuracy: 1.0000 - loss: 0.2556\n",
            "Epoch 21/70\n",
            "\u001b[1m1/1\u001b[0m \u001b[32m━━━━━━━━━━━━━━━━━━━━\u001b[0m\u001b[37m\u001b[0m \u001b[1m0s\u001b[0m 59ms/step - accuracy: 1.0000 - loss: 0.2106\n",
            "Epoch 22/70\n",
            "\u001b[1m1/1\u001b[0m \u001b[32m━━━━━━━━━━━━━━━━━━━━\u001b[0m\u001b[37m\u001b[0m \u001b[1m0s\u001b[0m 61ms/step - accuracy: 1.0000 - loss: 0.1678\n",
            "Epoch 23/70\n",
            "\u001b[1m1/1\u001b[0m \u001b[32m━━━━━━━━━━━━━━━━━━━━\u001b[0m\u001b[37m\u001b[0m \u001b[1m0s\u001b[0m 57ms/step - accuracy: 1.0000 - loss: 0.1288\n",
            "Epoch 24/70\n",
            "\u001b[1m1/1\u001b[0m \u001b[32m━━━━━━━━━━━━━━━━━━━━\u001b[0m\u001b[37m\u001b[0m \u001b[1m0s\u001b[0m 56ms/step - accuracy: 1.0000 - loss: 0.0951\n",
            "Epoch 25/70\n",
            "\u001b[1m1/1\u001b[0m \u001b[32m━━━━━━━━━━━━━━━━━━━━\u001b[0m\u001b[37m\u001b[0m \u001b[1m0s\u001b[0m 61ms/step - accuracy: 1.0000 - loss: 0.0677\n",
            "Epoch 26/70\n",
            "\u001b[1m1/1\u001b[0m \u001b[32m━━━━━━━━━━━━━━━━━━━━\u001b[0m\u001b[37m\u001b[0m \u001b[1m0s\u001b[0m 57ms/step - accuracy: 1.0000 - loss: 0.0470\n",
            "Epoch 27/70\n",
            "\u001b[1m1/1\u001b[0m \u001b[32m━━━━━━━━━━━━━━━━━━━━\u001b[0m\u001b[37m\u001b[0m \u001b[1m0s\u001b[0m 48ms/step - accuracy: 1.0000 - loss: 0.0320\n",
            "Epoch 28/70\n",
            "\u001b[1m1/1\u001b[0m \u001b[32m━━━━━━━━━━━━━━━━━━━━\u001b[0m\u001b[37m\u001b[0m \u001b[1m0s\u001b[0m 58ms/step - accuracy: 1.0000 - loss: 0.0214\n",
            "Epoch 29/70\n",
            "\u001b[1m1/1\u001b[0m \u001b[32m━━━━━━━━━━━━━━━━━━━━\u001b[0m\u001b[37m\u001b[0m \u001b[1m0s\u001b[0m 52ms/step - accuracy: 1.0000 - loss: 0.0142\n",
            "Epoch 30/70\n",
            "\u001b[1m1/1\u001b[0m \u001b[32m━━━━━━━━━━━━━━━━━━━━\u001b[0m\u001b[37m\u001b[0m \u001b[1m0s\u001b[0m 44ms/step - accuracy: 1.0000 - loss: 0.0094\n",
            "Epoch 31/70\n",
            "\u001b[1m1/1\u001b[0m \u001b[32m━━━━━━━━━━━━━━━━━━━━\u001b[0m\u001b[37m\u001b[0m \u001b[1m0s\u001b[0m 59ms/step - accuracy: 1.0000 - loss: 0.0061\n",
            "Epoch 32/70\n",
            "\u001b[1m1/1\u001b[0m \u001b[32m━━━━━━━━━━━━━━━━━━━━\u001b[0m\u001b[37m\u001b[0m \u001b[1m0s\u001b[0m 55ms/step - accuracy: 1.0000 - loss: 0.0041\n",
            "Epoch 33/70\n",
            "\u001b[1m1/1\u001b[0m \u001b[32m━━━━━━━━━━━━━━━━━━━━\u001b[0m\u001b[37m\u001b[0m \u001b[1m0s\u001b[0m 57ms/step - accuracy: 1.0000 - loss: 0.0028\n",
            "Epoch 34/70\n",
            "\u001b[1m1/1\u001b[0m \u001b[32m━━━━━━━━━━━━━━━━━━━━\u001b[0m\u001b[37m\u001b[0m \u001b[1m0s\u001b[0m 60ms/step - accuracy: 1.0000 - loss: 0.0019\n",
            "Epoch 35/70\n",
            "\u001b[1m1/1\u001b[0m \u001b[32m━━━━━━━━━━━━━━━━━━━━\u001b[0m\u001b[37m\u001b[0m \u001b[1m0s\u001b[0m 58ms/step - accuracy: 1.0000 - loss: 0.0013\n",
            "Epoch 36/70\n",
            "\u001b[1m1/1\u001b[0m \u001b[32m━━━━━━━━━━━━━━━━━━━━\u001b[0m\u001b[37m\u001b[0m \u001b[1m0s\u001b[0m 56ms/step - accuracy: 1.0000 - loss: 9.0135e-04\n",
            "Epoch 37/70\n",
            "\u001b[1m1/1\u001b[0m \u001b[32m━━━━━━━━━━━━━━━━━━━━\u001b[0m\u001b[37m\u001b[0m \u001b[1m0s\u001b[0m 42ms/step - accuracy: 1.0000 - loss: 6.4624e-04\n",
            "Epoch 38/70\n",
            "\u001b[1m1/1\u001b[0m \u001b[32m━━━━━━━━━━━━━━━━━━━━\u001b[0m\u001b[37m\u001b[0m \u001b[1m0s\u001b[0m 48ms/step - accuracy: 1.0000 - loss: 4.7119e-04\n",
            "Epoch 39/70\n",
            "\u001b[1m1/1\u001b[0m \u001b[32m━━━━━━━━━━━━━━━━━━━━\u001b[0m\u001b[37m\u001b[0m \u001b[1m0s\u001b[0m 50ms/step - accuracy: 1.0000 - loss: 3.4912e-04\n",
            "Epoch 40/70\n",
            "\u001b[1m1/1\u001b[0m \u001b[32m━━━━━━━━━━━━━━━━━━━━\u001b[0m\u001b[37m\u001b[0m \u001b[1m0s\u001b[0m 51ms/step - accuracy: 1.0000 - loss: 2.6227e-04\n",
            "Epoch 41/70\n",
            "\u001b[1m1/1\u001b[0m \u001b[32m━━━━━━━━━━━━━━━━━━━━\u001b[0m\u001b[37m\u001b[0m \u001b[1m0s\u001b[0m 63ms/step - accuracy: 1.0000 - loss: 1.9970e-04\n",
            "Epoch 42/70\n",
            "\u001b[1m1/1\u001b[0m \u001b[32m━━━━━━━━━━━━━━━━━━━━\u001b[0m\u001b[37m\u001b[0m \u001b[1m0s\u001b[0m 56ms/step - accuracy: 1.0000 - loss: 1.5416e-04\n",
            "Epoch 43/70\n",
            "\u001b[1m1/1\u001b[0m \u001b[32m━━━━━━━━━━━━━━━━━━━━\u001b[0m\u001b[37m\u001b[0m \u001b[1m0s\u001b[0m 44ms/step - accuracy: 1.0000 - loss: 1.2077e-04\n",
            "Epoch 44/70\n",
            "\u001b[1m1/1\u001b[0m \u001b[32m━━━━━━━━━━━━━━━━━━━━\u001b[0m\u001b[37m\u001b[0m \u001b[1m0s\u001b[0m 42ms/step - accuracy: 1.0000 - loss: 9.6107e-05\n",
            "Epoch 45/70\n",
            "\u001b[1m1/1\u001b[0m \u001b[32m━━━━━━━━━━━━━━━━━━━━\u001b[0m\u001b[37m\u001b[0m \u001b[1m0s\u001b[0m 42ms/step - accuracy: 1.0000 - loss: 7.7734e-05\n",
            "Epoch 46/70\n",
            "\u001b[1m1/1\u001b[0m \u001b[32m━━━━━━━━━━━━━━━━━━━━\u001b[0m\u001b[37m\u001b[0m \u001b[1m0s\u001b[0m 58ms/step - accuracy: 1.0000 - loss: 6.4108e-05\n",
            "Epoch 47/70\n",
            "\u001b[1m1/1\u001b[0m \u001b[32m━━━━━━━━━━━━━━━━━━━━\u001b[0m\u001b[37m\u001b[0m \u001b[1m0s\u001b[0m 58ms/step - accuracy: 1.0000 - loss: 5.3957e-05\n",
            "Epoch 48/70\n",
            "\u001b[1m1/1\u001b[0m \u001b[32m━━━━━━━━━━━━━━━━━━━━\u001b[0m\u001b[37m\u001b[0m \u001b[1m0s\u001b[0m 60ms/step - accuracy: 1.0000 - loss: 4.6051e-05\n",
            "Epoch 49/70\n",
            "\u001b[1m1/1\u001b[0m \u001b[32m━━━━━━━━━━━━━━━━━━━━\u001b[0m\u001b[37m\u001b[0m \u001b[1m0s\u001b[0m 42ms/step - accuracy: 1.0000 - loss: 3.9833e-05\n",
            "Epoch 50/70\n",
            "\u001b[1m1/1\u001b[0m \u001b[32m━━━━━━━━━━━━━━━━━━━━\u001b[0m\u001b[37m\u001b[0m \u001b[1m0s\u001b[0m 41ms/step - accuracy: 1.0000 - loss: 3.4728e-05\n",
            "Epoch 51/70\n",
            "\u001b[1m1/1\u001b[0m \u001b[32m━━━━━━━━━━━━━━━━━━━━\u001b[0m\u001b[37m\u001b[0m \u001b[1m0s\u001b[0m 42ms/step - accuracy: 1.0000 - loss: 3.0178e-05\n",
            "Epoch 52/70\n",
            "\u001b[1m1/1\u001b[0m \u001b[32m━━━━━━━━━━━━━━━━━━━━\u001b[0m\u001b[37m\u001b[0m \u001b[1m0s\u001b[0m 42ms/step - accuracy: 1.0000 - loss: 2.7218e-05\n",
            "Epoch 53/70\n",
            "\u001b[1m1/1\u001b[0m \u001b[32m━━━━━━━━━━━━━━━━━━━━\u001b[0m\u001b[37m\u001b[0m \u001b[1m0s\u001b[0m 42ms/step - accuracy: 1.0000 - loss: 2.4596e-05\n",
            "Epoch 54/70\n",
            "\u001b[1m1/1\u001b[0m \u001b[32m━━━━━━━━━━━━━━━━━━━━\u001b[0m\u001b[37m\u001b[0m \u001b[1m0s\u001b[0m 62ms/step - accuracy: 1.0000 - loss: 2.2222e-05\n",
            "Epoch 55/70\n",
            "\u001b[1m1/1\u001b[0m \u001b[32m━━━━━━━━━━━━━━━━━━━━\u001b[0m\u001b[37m\u001b[0m \u001b[1m0s\u001b[0m 41ms/step - accuracy: 1.0000 - loss: 2.0146e-05\n",
            "Epoch 56/70\n",
            "\u001b[1m1/1\u001b[0m \u001b[32m━━━━━━━━━━━━━━━━━━━━\u001b[0m\u001b[37m\u001b[0m \u001b[1m0s\u001b[0m 62ms/step - accuracy: 1.0000 - loss: 1.8437e-05\n",
            "Epoch 57/70\n",
            "\u001b[1m1/1\u001b[0m \u001b[32m━━━━━━━━━━━━━━━━━━━━\u001b[0m\u001b[37m\u001b[0m \u001b[1m0s\u001b[0m 51ms/step - accuracy: 1.0000 - loss: 1.7056e-05\n",
            "Epoch 58/70\n",
            "\u001b[1m1/1\u001b[0m \u001b[32m━━━━━━━━━━━━━━━━━━━━\u001b[0m\u001b[37m\u001b[0m \u001b[1m0s\u001b[0m 51ms/step - accuracy: 1.0000 - loss: 1.6013e-05\n",
            "Epoch 59/70\n",
            "\u001b[1m1/1\u001b[0m \u001b[32m━━━━━━━━━━━━━━━━━━━━\u001b[0m\u001b[37m\u001b[0m \u001b[1m0s\u001b[0m 59ms/step - accuracy: 1.0000 - loss: 1.4801e-05\n",
            "Epoch 60/70\n",
            "\u001b[1m1/1\u001b[0m \u001b[32m━━━━━━━━━━━━━━━━━━━━\u001b[0m\u001b[37m\u001b[0m \u001b[1m0s\u001b[0m 67ms/step - accuracy: 1.0000 - loss: 1.3858e-05\n",
            "Epoch 61/70\n",
            "\u001b[1m1/1\u001b[0m \u001b[32m━━━━━━━━━━━━━━━━━━━━\u001b[0m\u001b[37m\u001b[0m \u001b[1m0s\u001b[0m 62ms/step - accuracy: 1.0000 - loss: 1.3023e-05\n",
            "Epoch 62/70\n",
            "\u001b[1m1/1\u001b[0m \u001b[32m━━━━━━━━━━━━━━━━━━━━\u001b[0m\u001b[37m\u001b[0m \u001b[1m0s\u001b[0m 53ms/step - accuracy: 1.0000 - loss: 1.2348e-05\n",
            "Epoch 63/70\n",
            "\u001b[1m1/1\u001b[0m \u001b[32m━━━━━━━━━━━━━━━━━━━━\u001b[0m\u001b[37m\u001b[0m \u001b[1m0s\u001b[0m 57ms/step - accuracy: 1.0000 - loss: 1.1722e-05\n",
            "Epoch 64/70\n",
            "\u001b[1m1/1\u001b[0m \u001b[32m━━━━━━━━━━━━━━━━━━━━\u001b[0m\u001b[37m\u001b[0m \u001b[1m0s\u001b[0m 57ms/step - accuracy: 1.0000 - loss: 1.1156e-05\n",
            "Epoch 65/70\n",
            "\u001b[1m1/1\u001b[0m \u001b[32m━━━━━━━━━━━━━━━━━━━━\u001b[0m\u001b[37m\u001b[0m \u001b[1m0s\u001b[0m 44ms/step - accuracy: 1.0000 - loss: 1.0619e-05\n",
            "Epoch 66/70\n",
            "\u001b[1m1/1\u001b[0m \u001b[32m━━━━━━━━━━━━━━━━━━━━\u001b[0m\u001b[37m\u001b[0m \u001b[1m0s\u001b[0m 56ms/step - accuracy: 1.0000 - loss: 1.0093e-05\n",
            "Epoch 67/70\n",
            "\u001b[1m1/1\u001b[0m \u001b[32m━━━━━━━━━━━━━━━━━━━━\u001b[0m\u001b[37m\u001b[0m \u001b[1m0s\u001b[0m 49ms/step - accuracy: 1.0000 - loss: 9.6260e-06\n",
            "Epoch 68/70\n",
            "\u001b[1m1/1\u001b[0m \u001b[32m━━━━━━━━━━━━━━━━━━━━\u001b[0m\u001b[37m\u001b[0m \u001b[1m0s\u001b[0m 55ms/step - accuracy: 1.0000 - loss: 9.2187e-06\n",
            "Epoch 69/70\n",
            "\u001b[1m1/1\u001b[0m \u001b[32m━━━━━━━━━━━━━━━━━━━━\u001b[0m\u001b[37m\u001b[0m \u001b[1m0s\u001b[0m 42ms/step - accuracy: 1.0000 - loss: 8.9803e-06\n",
            "Epoch 70/70\n",
            "\u001b[1m1/1\u001b[0m \u001b[32m━━━━━━━━━━━━━━━━━━━━\u001b[0m\u001b[37m\u001b[0m \u001b[1m0s\u001b[0m 42ms/step - accuracy: 1.0000 - loss: 8.5432e-06\n"
          ]
        },
        {
          "output_type": "display_data",
          "data": {
            "text/plain": [
              "\u001b[1mModel: \"sequential_19\"\u001b[0m\n"
            ],
            "text/html": [
              "<pre style=\"white-space:pre;overflow-x:auto;line-height:normal;font-family:Menlo,'DejaVu Sans Mono',consolas,'Courier New',monospace\"><span style=\"font-weight: bold\">Model: \"sequential_19\"</span>\n",
              "</pre>\n"
            ]
          },
          "metadata": {}
        },
        {
          "output_type": "display_data",
          "data": {
            "text/plain": [
              "┏━━━━━━━━━━━━━━━━━━━━━━━━━━━━━━━━━━━━━━┳━━━━━━━━━━━━━━━━━━━━━━━━━━━━━┳━━━━━━━━━━━━━━━━━┓\n",
              "┃\u001b[1m \u001b[0m\u001b[1mLayer (type)                        \u001b[0m\u001b[1m \u001b[0m┃\u001b[1m \u001b[0m\u001b[1mOutput Shape               \u001b[0m\u001b[1m \u001b[0m┃\u001b[1m \u001b[0m\u001b[1m        Param #\u001b[0m\u001b[1m \u001b[0m┃\n",
              "┡━━━━━━━━━━━━━━━━━━━━━━━━━━━━━━━━━━━━━━╇━━━━━━━━━━━━━━━━━━━━━━━━━━━━━╇━━━━━━━━━━━━━━━━━┩\n",
              "│ conv2d_18 (\u001b[38;5;33mConv2D\u001b[0m)                   │ (\u001b[38;5;45mNone\u001b[0m, \u001b[38;5;34m26\u001b[0m, \u001b[38;5;34m26\u001b[0m, \u001b[38;5;34m64\u001b[0m)          │             \u001b[38;5;34m640\u001b[0m │\n",
              "├──────────────────────────────────────┼─────────────────────────────┼─────────────────┤\n",
              "│ max_pooling2d_18 (\u001b[38;5;33mMaxPooling2D\u001b[0m)      │ (\u001b[38;5;45mNone\u001b[0m, \u001b[38;5;34m13\u001b[0m, \u001b[38;5;34m13\u001b[0m, \u001b[38;5;34m64\u001b[0m)          │               \u001b[38;5;34m0\u001b[0m │\n",
              "├──────────────────────────────────────┼─────────────────────────────┼─────────────────┤\n",
              "│ conv2d_19 (\u001b[38;5;33mConv2D\u001b[0m)                   │ (\u001b[38;5;45mNone\u001b[0m, \u001b[38;5;34m11\u001b[0m, \u001b[38;5;34m11\u001b[0m, \u001b[38;5;34m64\u001b[0m)          │          \u001b[38;5;34m36,928\u001b[0m │\n",
              "├──────────────────────────────────────┼─────────────────────────────┼─────────────────┤\n",
              "│ max_pooling2d_19 (\u001b[38;5;33mMaxPooling2D\u001b[0m)      │ (\u001b[38;5;45mNone\u001b[0m, \u001b[38;5;34m5\u001b[0m, \u001b[38;5;34m5\u001b[0m, \u001b[38;5;34m64\u001b[0m)            │               \u001b[38;5;34m0\u001b[0m │\n",
              "├──────────────────────────────────────┼─────────────────────────────┼─────────────────┤\n",
              "│ flatten_19 (\u001b[38;5;33mFlatten\u001b[0m)                 │ (\u001b[38;5;45mNone\u001b[0m, \u001b[38;5;34m1600\u001b[0m)                │               \u001b[38;5;34m0\u001b[0m │\n",
              "├──────────────────────────────────────┼─────────────────────────────┼─────────────────┤\n",
              "│ dense_38 (\u001b[38;5;33mDense\u001b[0m)                     │ (\u001b[38;5;45mNone\u001b[0m, \u001b[38;5;34m12\u001b[0m)                  │          \u001b[38;5;34m19,212\u001b[0m │\n",
              "├──────────────────────────────────────┼─────────────────────────────┼─────────────────┤\n",
              "│ dense_39 (\u001b[38;5;33mDense\u001b[0m)                     │ (\u001b[38;5;45mNone\u001b[0m, \u001b[38;5;34m128\u001b[0m)                 │           \u001b[38;5;34m1,664\u001b[0m │\n",
              "├──────────────────────────────────────┼─────────────────────────────┼─────────────────┤\n",
              "│ dense_40 (\u001b[38;5;33mDense\u001b[0m)                     │ (\u001b[38;5;45mNone\u001b[0m, \u001b[38;5;34m2\u001b[0m)                   │             \u001b[38;5;34m258\u001b[0m │\n",
              "└──────────────────────────────────────┴─────────────────────────────┴─────────────────┘\n"
            ],
            "text/html": [
              "<pre style=\"white-space:pre;overflow-x:auto;line-height:normal;font-family:Menlo,'DejaVu Sans Mono',consolas,'Courier New',monospace\">┏━━━━━━━━━━━━━━━━━━━━━━━━━━━━━━━━━━━━━━┳━━━━━━━━━━━━━━━━━━━━━━━━━━━━━┳━━━━━━━━━━━━━━━━━┓\n",
              "┃<span style=\"font-weight: bold\"> Layer (type)                         </span>┃<span style=\"font-weight: bold\"> Output Shape                </span>┃<span style=\"font-weight: bold\">         Param # </span>┃\n",
              "┡━━━━━━━━━━━━━━━━━━━━━━━━━━━━━━━━━━━━━━╇━━━━━━━━━━━━━━━━━━━━━━━━━━━━━╇━━━━━━━━━━━━━━━━━┩\n",
              "│ conv2d_18 (<span style=\"color: #0087ff; text-decoration-color: #0087ff\">Conv2D</span>)                   │ (<span style=\"color: #00d7ff; text-decoration-color: #00d7ff\">None</span>, <span style=\"color: #00af00; text-decoration-color: #00af00\">26</span>, <span style=\"color: #00af00; text-decoration-color: #00af00\">26</span>, <span style=\"color: #00af00; text-decoration-color: #00af00\">64</span>)          │             <span style=\"color: #00af00; text-decoration-color: #00af00\">640</span> │\n",
              "├──────────────────────────────────────┼─────────────────────────────┼─────────────────┤\n",
              "│ max_pooling2d_18 (<span style=\"color: #0087ff; text-decoration-color: #0087ff\">MaxPooling2D</span>)      │ (<span style=\"color: #00d7ff; text-decoration-color: #00d7ff\">None</span>, <span style=\"color: #00af00; text-decoration-color: #00af00\">13</span>, <span style=\"color: #00af00; text-decoration-color: #00af00\">13</span>, <span style=\"color: #00af00; text-decoration-color: #00af00\">64</span>)          │               <span style=\"color: #00af00; text-decoration-color: #00af00\">0</span> │\n",
              "├──────────────────────────────────────┼─────────────────────────────┼─────────────────┤\n",
              "│ conv2d_19 (<span style=\"color: #0087ff; text-decoration-color: #0087ff\">Conv2D</span>)                   │ (<span style=\"color: #00d7ff; text-decoration-color: #00d7ff\">None</span>, <span style=\"color: #00af00; text-decoration-color: #00af00\">11</span>, <span style=\"color: #00af00; text-decoration-color: #00af00\">11</span>, <span style=\"color: #00af00; text-decoration-color: #00af00\">64</span>)          │          <span style=\"color: #00af00; text-decoration-color: #00af00\">36,928</span> │\n",
              "├──────────────────────────────────────┼─────────────────────────────┼─────────────────┤\n",
              "│ max_pooling2d_19 (<span style=\"color: #0087ff; text-decoration-color: #0087ff\">MaxPooling2D</span>)      │ (<span style=\"color: #00d7ff; text-decoration-color: #00d7ff\">None</span>, <span style=\"color: #00af00; text-decoration-color: #00af00\">5</span>, <span style=\"color: #00af00; text-decoration-color: #00af00\">5</span>, <span style=\"color: #00af00; text-decoration-color: #00af00\">64</span>)            │               <span style=\"color: #00af00; text-decoration-color: #00af00\">0</span> │\n",
              "├──────────────────────────────────────┼─────────────────────────────┼─────────────────┤\n",
              "│ flatten_19 (<span style=\"color: #0087ff; text-decoration-color: #0087ff\">Flatten</span>)                 │ (<span style=\"color: #00d7ff; text-decoration-color: #00d7ff\">None</span>, <span style=\"color: #00af00; text-decoration-color: #00af00\">1600</span>)                │               <span style=\"color: #00af00; text-decoration-color: #00af00\">0</span> │\n",
              "├──────────────────────────────────────┼─────────────────────────────┼─────────────────┤\n",
              "│ dense_38 (<span style=\"color: #0087ff; text-decoration-color: #0087ff\">Dense</span>)                     │ (<span style=\"color: #00d7ff; text-decoration-color: #00d7ff\">None</span>, <span style=\"color: #00af00; text-decoration-color: #00af00\">12</span>)                  │          <span style=\"color: #00af00; text-decoration-color: #00af00\">19,212</span> │\n",
              "├──────────────────────────────────────┼─────────────────────────────┼─────────────────┤\n",
              "│ dense_39 (<span style=\"color: #0087ff; text-decoration-color: #0087ff\">Dense</span>)                     │ (<span style=\"color: #00d7ff; text-decoration-color: #00d7ff\">None</span>, <span style=\"color: #00af00; text-decoration-color: #00af00\">128</span>)                 │           <span style=\"color: #00af00; text-decoration-color: #00af00\">1,664</span> │\n",
              "├──────────────────────────────────────┼─────────────────────────────┼─────────────────┤\n",
              "│ dense_40 (<span style=\"color: #0087ff; text-decoration-color: #0087ff\">Dense</span>)                     │ (<span style=\"color: #00d7ff; text-decoration-color: #00d7ff\">None</span>, <span style=\"color: #00af00; text-decoration-color: #00af00\">2</span>)                   │             <span style=\"color: #00af00; text-decoration-color: #00af00\">258</span> │\n",
              "└──────────────────────────────────────┴─────────────────────────────┴─────────────────┘\n",
              "</pre>\n"
            ]
          },
          "metadata": {}
        },
        {
          "output_type": "display_data",
          "data": {
            "text/plain": [
              "\u001b[1m Total params: \u001b[0m\u001b[38;5;34m176,108\u001b[0m (687.93 KB)\n"
            ],
            "text/html": [
              "<pre style=\"white-space:pre;overflow-x:auto;line-height:normal;font-family:Menlo,'DejaVu Sans Mono',consolas,'Courier New',monospace\"><span style=\"font-weight: bold\"> Total params: </span><span style=\"color: #00af00; text-decoration-color: #00af00\">176,108</span> (687.93 KB)\n",
              "</pre>\n"
            ]
          },
          "metadata": {}
        },
        {
          "output_type": "display_data",
          "data": {
            "text/plain": [
              "\u001b[1m Trainable params: \u001b[0m\u001b[38;5;34m58,702\u001b[0m (229.30 KB)\n"
            ],
            "text/html": [
              "<pre style=\"white-space:pre;overflow-x:auto;line-height:normal;font-family:Menlo,'DejaVu Sans Mono',consolas,'Courier New',monospace\"><span style=\"font-weight: bold\"> Trainable params: </span><span style=\"color: #00af00; text-decoration-color: #00af00\">58,702</span> (229.30 KB)\n",
              "</pre>\n"
            ]
          },
          "metadata": {}
        },
        {
          "output_type": "display_data",
          "data": {
            "text/plain": [
              "\u001b[1m Non-trainable params: \u001b[0m\u001b[38;5;34m0\u001b[0m (0.00 B)\n"
            ],
            "text/html": [
              "<pre style=\"white-space:pre;overflow-x:auto;line-height:normal;font-family:Menlo,'DejaVu Sans Mono',consolas,'Courier New',monospace\"><span style=\"font-weight: bold\"> Non-trainable params: </span><span style=\"color: #00af00; text-decoration-color: #00af00\">0</span> (0.00 B)\n",
              "</pre>\n"
            ]
          },
          "metadata": {}
        },
        {
          "output_type": "display_data",
          "data": {
            "text/plain": [
              "\u001b[1m Optimizer params: \u001b[0m\u001b[38;5;34m117,406\u001b[0m (458.62 KB)\n"
            ],
            "text/html": [
              "<pre style=\"white-space:pre;overflow-x:auto;line-height:normal;font-family:Menlo,'DejaVu Sans Mono',consolas,'Courier New',monospace\"><span style=\"font-weight: bold\"> Optimizer params: </span><span style=\"color: #00af00; text-decoration-color: #00af00\">117,406</span> (458.62 KB)\n",
              "</pre>\n"
            ]
          },
          "metadata": {}
        },
        {
          "output_type": "stream",
          "name": "stdout",
          "text": [
            "\n",
            "MODEL EVALUATION:\n",
            "test set accuracy: 0.8333333134651184\n",
            "test set loss: 1.8219380378723145\n"
          ]
        }
      ]
    },
    {
      "cell_type": "code",
      "source": [],
      "metadata": {
        "id": "MlUJYYRzkRPz"
      },
      "execution_count": null,
      "outputs": []
    },
    {
      "cell_type": "code",
      "source": [
        "model.evaluate(test_images, test_labels)"
      ],
      "metadata": {
        "colab": {
          "base_uri": "https://localhost:8080/"
        },
        "id": "hIGeLCaeU5G6",
        "outputId": "c5d99815-6095-48b5-ab62-c10a79442020"
      },
      "execution_count": 205,
      "outputs": [
        {
          "output_type": "stream",
          "name": "stdout",
          "text": [
            "\u001b[1m1/1\u001b[0m \u001b[32m━━━━━━━━━━━━━━━━━━━━\u001b[0m\u001b[37m\u001b[0m \u001b[1m0s\u001b[0m 25ms/step - accuracy: 0.8333 - loss: 1.8219\n"
          ]
        },
        {
          "output_type": "execute_result",
          "data": {
            "text/plain": [
              "[1.8219380378723145, 0.8333333134651184]"
            ]
          },
          "metadata": {},
          "execution_count": 205
        }
      ]
    },
    {
      "cell_type": "code",
      "source": [
        "classifications = model.predict(test_images)\n",
        "\n",
        "print(classifications[1])"
      ],
      "metadata": {
        "colab": {
          "base_uri": "https://localhost:8080/"
        },
        "id": "LEbXaLuWVOB7",
        "outputId": "0e81d403-092f-4b90-fb47-3d18f50a6b73"
      },
      "execution_count": 159,
      "outputs": [
        {
          "output_type": "stream",
          "name": "stdout",
          "text": [
            "\u001b[1m1/1\u001b[0m \u001b[32m━━━━━━━━━━━━━━━━━━━━\u001b[0m\u001b[37m\u001b[0m \u001b[1m0s\u001b[0m 70ms/step\n",
            "[0.47111133 0.52888876]\n"
          ]
        }
      ]
    },
    {
      "cell_type": "code",
      "source": [
        "print(test_labels[1])"
      ],
      "metadata": {
        "colab": {
          "base_uri": "https://localhost:8080/"
        },
        "id": "1ICO5_3TU80i",
        "outputId": "5564ae57-2dfa-495e-e9b0-1bc0582f93ba"
      },
      "execution_count": 160,
      "outputs": [
        {
          "output_type": "stream",
          "name": "stdout",
          "text": [
            "0\n"
          ]
        }
      ]
    },
    {
      "cell_type": "code",
      "source": [
        "import numpy as np\n",
        "import matplotlib.pyplot as plt\n",
        "\n",
        "def show_image_and_prediction(model, test_images, test_labels, index):\n",
        "    # Get the image and label\n",
        "    image = test_images[index]\n",
        "    true_label = test_labels[index]\n",
        "\n",
        "    # Predict the label for the given image\n",
        "    predictions = model.predict(np.expand_dims(image, axis=0))  # Add batch dimension\n",
        "    predicted_label = np.argmax(predictions[0])\n",
        "\n",
        "    # Set up the plot: 1 row, 2 columns\n",
        "    fig, (ax1, ax2) = plt.subplots(1, 2, figsize=(10, 5))\n",
        "\n",
        "    # Plot the image with the true and predicted labels\n",
        "    ax1.imshow(image, cmap='gray')  # If grayscale\n",
        "    ax1.set_title(f\"True: {true_label}, Predicted: {predicted_label}\")\n",
        "    ax1.axis('off')  # Hide axis\n",
        "\n",
        "    # Plot the prediction probabilities as a bar chart\n",
        "    ax2.bar(range(len(predictions[0])), predictions[0])\n",
        "    ax2.set_xticks(range(len(predictions[0])))\n",
        "    ax2.set_title('Prediction Probabilities')\n",
        "    ax2.set_xlabel('Class Index')\n",
        "    ax2.set_ylabel('Probability')\n",
        "\n",
        "    # Highlight the predicted class in red and the true class in green\n",
        "    ax2.bar(predicted_label, predictions[0][predicted_label], color='red')  # Predicted\n",
        "    ax2.bar(true_label, predictions[0][true_label], color='green')  # True\n",
        "\n",
        "    plt.show()\n",
        "\n",
        "# Example usage:\n",
        "# show_image_and_prediction(trained_model, test_images, test_labels, index=0)\n"
      ],
      "metadata": {
        "id": "VRPK9mN9mCsR"
      },
      "execution_count": 206,
      "outputs": []
    },
    {
      "cell_type": "code",
      "source": [
        "show_image_and_prediction(model, test_images, test_labels, 5)"
      ],
      "metadata": {
        "colab": {
          "base_uri": "https://localhost:8080/",
          "height": 505
        },
        "id": "taWk4KktmJT-",
        "outputId": "4ab8f0ef-9a0e-40ec-bd64-a62ad0374ee9"
      },
      "execution_count": 212,
      "outputs": [
        {
          "output_type": "stream",
          "name": "stdout",
          "text": [
            "\u001b[1m1/1\u001b[0m \u001b[32m━━━━━━━━━━━━━━━━━━━━\u001b[0m\u001b[37m\u001b[0m \u001b[1m0s\u001b[0m 19ms/step\n"
          ]
        },
        {
          "output_type": "display_data",
          "data": {
            "text/plain": [
              "<Figure size 1000x500 with 2 Axes>"
            ],
            "image/png": "[encoded data removed]"
          },
          "metadata": {}
        }
      ]
    }
  ]
}