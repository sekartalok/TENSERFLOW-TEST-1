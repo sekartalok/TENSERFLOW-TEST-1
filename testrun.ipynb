{
  "nbformat": 4,
  "nbformat_minor": 0,
  "metadata": {
    "colab": {
      "provenance": []
    },
    "kernelspec": {
      "name": "python3",
      "display_name": "Python 3"
    },
    "language_info": {
      "name": "python"
    }
  },
  "cells": [
    {
      "cell_type": "code",
      "source": [
        "import tensorflow as tf\n",
        "import numpy as np\n",
        "import matplotlib.pyplot as plt"
      ],
      "metadata": {
        "id": "5PqRJmVPS5A0"
      },
      "execution_count": 89,
      "outputs": []
    },
    {
      "cell_type": "code",
      "execution_count": 94,
      "metadata": {
        "colab": {
          "base_uri": "https://localhost:8080/"
        },
        "id": "LzzGCJgpSV59",
        "outputId": "be3b02c0-f969-49e0-86c4-ab257c26396d"
      },
      "outputs": [
        {
          "output_type": "stream",
          "name": "stdout",
          "text": [
            "Train images shape: (12, 28, 28)\n",
            "Train labels shape: (12,)\n",
            "Test images shape: (6, 28, 28)\n",
            "Test labels shape: (6,)\n"
          ]
        }
      ],
      "source": [
        "from skimage.color import rgb2gray\n",
        "import numpy as np\n",
        "\n",
        "def load_custom_fmnist_data(npz_path='/content/custom_fmnist(1).npz', convert_to_grayscale=False):\n",
        "    # Load the .npz file\n",
        "    data = np.load(npz_path)\n",
        "\n",
        "    # Extract training and testing data\n",
        "    train_images = data['train_images']\n",
        "    train_labels = data['train_labels']\n",
        "    test_images = data['test_images']\n",
        "    test_labels = data['test_labels']\n",
        "\n",
        "    if convert_to_grayscale:\n",
        "        # Convert to grayscale using skimage's rgb2gray function\n",
        "        train_images = np.array([rgb2gray(img) for img in train_images])\n",
        "        test_images = np.array([rgb2gray(img) for img in test_images])\n",
        "\n",
        "    # Return data in the same format as fashion_mnist.load_data()\n",
        "    return (train_images, train_labels), (test_images, test_labels)\n",
        "\n",
        "# Example usage: simulate the behavior of tf.keras.datasets.fashion_mnist.load_data()\n",
        "(train_images, train_labels), (test_images, test_labels) = load_custom_fmnist_data(convert_to_grayscale=True)\n",
        "\n",
        "# Check the shape of the data\n",
        "print(\"Train images shape:\", train_images.shape)\n",
        "print(\"Train labels shape:\", train_labels.shape)\n",
        "print(\"Test images shape:\", test_images.shape)\n",
        "print(\"Test labels shape:\", test_labels.shape)\n"
      ]
    },
    {
      "cell_type": "code",
      "source": [
        "import numpy as np\n",
        "import matplotlib.pyplot as plt\n",
        "from skimage.color import rgb2gray\n",
        "\n",
        "def load_custom_fmnist_data(npz_path='/content/custom_fmnist(1).npz', convert_to_grayscale=False):\n",
        "    # Load the .npz file\n",
        "    data = np.load(npz_path)\n",
        "\n",
        "    # Extract training and testing data\n",
        "    train_images = data['train_images']\n",
        "    train_labels = data['train_labels']\n",
        "    test_images = data['test_images']\n",
        "    test_labels = data['test_labels']\n",
        "\n",
        "    if convert_to_grayscale:\n",
        "        # Convert to grayscale using skimage's rgb2gray function\n",
        "        train_images = np.array([rgb2gray(img) for img in train_images])\n",
        "        test_images = np.array([rgb2gray(img) for img in test_images])\n",
        "\n",
        "    # Return data in the same format as fashion_mnist.load_data()\n",
        "    return (train_images, train_labels), (test_images, test_labels)\n",
        "\n",
        "# Example usage: simulate the behavior of tf.keras.datasets.fashion_mnist.load_data()\n",
        "(train_images, train_labels), (test_images, test_labels) = load_custom_fmnist_data(convert_to_grayscale=True)\n",
        "\n",
        "# Check the shape of the data\n",
        "print(\"Train images shape:\", train_images.shape)\n",
        "print(\"Train labels shape:\", train_labels.shape)\n",
        "print(\"Test images shape:\", test_images.shape)\n",
        "print(\"Test labels shape:\", test_labels.shape)\n",
        "\n",
        "# Show an image (e.g., the first one in the training set)\n",
        "index = 8  # Index of the image you want to display\n",
        "plt.imshow(train_images[index], cmap='gray')\n",
        "plt.title(f'Label: {train_labels[index]}')\n",
        "plt.colorbar()\n",
        "plt.show()\n"
      ],
      "metadata": {
        "colab": {
          "base_uri": "https://localhost:8080/",
          "height": 541
        },
        "id": "kYvBf1JJh6hY",
        "outputId": "66eb4e1b-081b-4e25-bb56-4f199ee2988c"
      },
      "execution_count": 93,
      "outputs": [
        {
          "output_type": "stream",
          "name": "stdout",
          "text": [
            "Train images shape: (12, 28, 28)\n",
            "Train labels shape: (12,)\n",
            "Test images shape: (6, 28, 28)\n",
            "Test labels shape: (6,)\n"
          ]
        },
        {
          "output_type": "display_data",
          "data": {
            "text/plain": [
              "<Figure size 640x480 with 2 Axes>"
            ],
            "image/png": "[encoded data removed]"
          },
          "metadata": {}
        }
      ]
    },
    {
      "cell_type": "code",
      "source": [
        "# You can put between 0 to 59999 here\n",
        "index = 11\n",
        "\n",
        "# Set number of characters per row when printing\n",
        "np.set_printoptions(linewidth=320)\n",
        "\n",
        "# Print the label and image\n",
        "print(f'LABEL: {train_labels[index]}')\n",
        "print(f'\\nIMAGE PIXEL ARRAY:\\n\\n{train_images[index]}\\n\\n')\n",
        "\n",
        "# Visualize the image using the default colormap (viridis)\n",
        "plt.imshow(train_images[index])\n",
        "plt.colorbar()\n",
        "plt.show()"
      ],
      "metadata": {
        "colab": {
          "base_uri": "https://localhost:8080/",
          "height": 1000
        },
        "id": "NQvft-nsSxZE",
        "outputId": "7930c5de-e391-4ef3-f940-70b45c658f51"
      },
      "execution_count": 114,
      "outputs": [
        {
          "output_type": "stream",
          "name": "stdout",
          "text": [
            "LABEL: 1\n",
            "\n",
            "IMAGE PIXEL ARRAY:\n",
            "\n",
            "[[1.         1.         1.         1.         1.         1.         1.         1.         1.         1.         1.         1.         1.         1.         1.         1.         1.         1.         1.         1.         1.         1.         1.         1.         1.         1.         1.         1.        ]\n",
            " [1.         1.         1.         0.96386549 0.87284471 0.86219608 0.92354157 1.         1.         1.         1.         1.         1.         1.         1.         1.         1.         1.         1.         1.         1.         1.         1.         1.         1.         1.         1.         1.        ]\n",
            " [1.         1.         1.         0.97310745 0.68882392 0.42191529 0.52391216 0.73145451 0.90871137 1.         1.         1.         1.         1.         1.         1.         1.         1.         1.         1.         1.         1.         1.         1.         1.         1.         1.         1.        ]\n",
            " [1.         1.         1.         1.         0.90420941 0.42754118 0.54886235 0.67826471 0.69983686 0.82749804 0.99607843 1.         1.         1.         0.99243961 0.85129451 0.99412902 1.         1.         1.         1.         1.         1.         1.         1.         1.         1.         1.        ]\n",
            " [1.         1.         1.         1.         0.96526431 0.51828706 0.5950651  0.65221333 0.55501608 0.37240118 0.52080039 0.78796196 0.84254275 0.87923569 0.90557765 0.55920745 0.93497804 1.         1.         1.         1.         1.         1.         1.         1.         1.         1.         1.        ]\n",
            " [1.         1.         1.         1.         0.99467961 0.75970902 0.59810863 0.48018745 0.37766118 0.36027059 0.41235216 0.65629686 0.73777725 0.73747961 0.87925059 0.69363333 0.86965843 1.         1.         1.         1.         1.         1.         1.         1.         1.         1.         1.        ]\n",
            " [1.         1.         1.         1.         1.         0.99579569 0.88571059 0.72130471 0.61823569 0.81736235 0.95519686 0.99943451 0.93958314 0.85528667 0.84771843 0.77867255 0.79364549 0.94633294 0.9438102  0.97359059 1.         1.         1.         1.         1.         1.         1.         1.        ]\n",
            " [1.         1.         1.         1.         1.         1.         1.         1.         1.         1.         0.89581216 0.7427051  0.6951698  0.68219255 0.69848196 0.72092588 0.73342784 0.7743698  0.75747804 0.80636824 0.88337922 0.97696157 1.         1.         1.         1.         1.         1.        ]\n",
            " [1.         1.         1.         1.         1.         1.         1.         1.         0.9854149  0.73754863 0.60540275 0.61905804 0.6439949  0.67485529 0.69421098 0.72904471 0.72286824 0.7242749  0.71414706 0.72819647 0.73297412 0.79032471 0.95055216 1.         1.         1.         1.         1.        ]\n",
            " [1.         1.         1.         1.         1.         1.         1.         1.         0.70961451 0.5090302  0.57532471 0.61285176 0.63277294 0.67570353 0.70209882 0.7349902  0.74790863 0.7740502  0.77851529 0.77288235 0.73240863 0.71384941 0.7534898  0.96234667 1.         1.         1.         1.        ]\n",
            " [1.         1.         1.         1.         1.         1.         1.         0.85077804 0.48338078 0.53363098 0.58316784 0.60780627 0.62996745 0.66673647 0.71590235 0.76367647 0.82043961 0.81793176 0.81340784 0.81591569 0.78975216 0.74447882 0.71021059 0.80746941 0.99662902 1.         1.         1.        ]\n",
            " [1.         1.         1.         1.         1.         1.         0.99243961 0.59463804 0.48413176 0.54511294 0.58483451 0.60977843 0.63053294 0.66112549 0.71646784 0.77885686 0.8187651  0.82215098 0.83364078 0.84066549 0.81393647 0.76555294 0.73181333 0.72030863 0.9384451  1.         1.         1.        ]\n",
            " [1.         1.         1.         1.         1.         1.         0.90157294 0.46779961 0.4942149  0.54791843 0.57727412 0.60697294 0.62520471 0.66169098 0.70665255 0.75806549 0.80836941 0.83338    0.83982431 0.84515255 0.84318824 0.78131373 0.74642118 0.7166549  0.86199255 1.         1.         1.        ]\n",
            " [1.         1.         1.         1.         1.         1.         0.76750157 0.43160471 0.48752549 0.54344627 0.58036235 0.59883922 0.62437137 0.65832    0.70972588 0.73979686 0.78364157 0.81202314 0.82043961 0.84600078 0.83279255 0.79510235 0.7500749  0.72507137 0.81616863 1.         1.         1.        ]\n",
            " [1.         1.         1.         1.         1.         1.         0.6883698  0.43129922 0.48333608 0.53450196 0.56497373 0.58847333 0.62128314 0.65017137 0.69539373 0.73135843 0.75047529 0.78251059 0.7934498  0.81058745 0.79849529 0.77822549 0.74979216 0.73377059 0.79987216 0.99185922 1.         1.        ]\n",
            " [1.         1.         1.         1.         1.         1.         0.67542157 0.44107686 0.48416941 0.5300298  0.54875176 0.57308471 0.60697294 0.63866667 0.66897647 0.70689843 0.73472941 0.75101882 0.76983098 0.76755412 0.75798471 0.74869804 0.74248471 0.74248471 0.80128588 0.9854     1.         1.        ]\n",
            " [1.         1.         1.         1.         1.         1.         0.69531216 0.45002118 0.48108118 0.51183569 0.53336314 0.56216824 0.59772314 0.6302502  0.66336549 0.68104667 0.70267922 0.72149137 0.72849412 0.74730627 0.74531216 0.73939647 0.74190431 0.75401137 0.81507451 0.98877098 1.         1.        ]\n",
            " [1.         1.         1.         1.         1.         1.         0.75561686 0.48336588 0.49311373 0.5065302  0.52494667 0.55739059 0.59211216 0.6159549  0.64681529 0.67513804 0.68383725 0.69731412 0.71160941 0.72256353 0.73350275 0.73602549 0.7475302  0.76499451 0.84768235 0.99691176 1.         1.        ]\n",
            " [1.         1.         1.         1.         1.         1.         0.85297255 0.54983922 0.51889804 0.51744667 0.53222431 0.55375176 0.58847333 0.61006118 0.64147216 0.66952706 0.68272118 0.69449373 0.71160941 0.71947529 0.73041451 0.73939647 0.74922667 0.77009882 0.89041804 1.         1.         1.        ]\n",
            " [1.         1.         1.         1.         1.         1.         0.94781333 0.62866549 0.55844118 0.54660196 0.55128941 0.56245098 0.59408431 0.61258392 0.64344431 0.66391608 0.68272118 0.69168824 0.70599843 0.71778588 0.71695255 0.73153059 0.74700863 0.79457294 0.95279922 1.         1.         1.        ]\n",
            " [1.         1.         1.         1.         1.         1.         1.         0.73081373 0.57777333 0.56987843 0.56923059 0.57533961 0.59605647 0.62100039 0.64118941 0.66363333 0.68074902 0.68916549 0.70010471 0.71386431 0.71947529 0.72930549 0.75098902 0.84489882 0.99297529 1.         1.         1.        ]\n",
            " [1.         0.99607843 0.99607843 0.99132353 0.99160627 0.99132353 0.99022235 0.87124902 0.59459843 0.59142078 0.58659137 0.59076588 0.60139961 0.62661137 0.64147216 0.66391608 0.68074902 0.68355451 0.69814745 0.70629608 0.71612627 0.73076314 0.78111098 0.93033333 1.         1.         1.         1.        ]\n",
            " [0.9952451  0.99215686 0.98851804 0.97620275 0.96443804 0.95350667 0.93389882 0.90534667 0.70596078 0.56950627 0.59636196 0.6064451  0.61764431 0.6325051  0.64708314 0.66391608 0.67850902 0.68525098 0.70042431 0.71166824 0.72489137 0.76060235 0.87443333 0.99662902 1.         1.         1.         1.        ]\n",
            " [0.99132353 0.98376314 0.96555412 0.94090863 0.91036941 0.88710784 0.86721725 0.84254902 0.82041843 0.66527882 0.56950627 0.59632431 0.62490706 0.64511098 0.65887059 0.67374627 0.68274314 0.69398706 0.71225569 0.72968314 0.74629216 0.84466    0.98624824 1.         1.         1.         1.         1.        ]\n",
            " [0.99132353 0.98012431 0.9565949  0.91821255 0.8798302  0.85264706 0.83442314 0.82263569 0.81843137 0.81535804 0.71480196 0.58127216 0.5563498  0.60951843 0.64735098 0.66503216 0.67205686 0.67798745 0.68672353 0.70112235 0.78940706 0.95313373 1.         1.         1.         1.         1.         1.        ]\n",
            " [0.99607843 0.99132353 0.98012431 0.95687765 0.93306549 0.91008667 0.89186275 0.8747549  0.86128588 0.83688549 0.79062235 0.6871498  0.55444745 0.48307647 0.48152784 0.49042745 0.50862863 0.57340549 0.68225804 0.80831569 0.92704392 0.98961922 1.         1.         1.         1.         1.         1.        ]\n",
            " [0.99888392 0.99607843 0.99607843 0.99160627 0.98376314 0.97984157 0.97311451 0.96498863 0.95377451 0.93721725 0.91645569 0.90382    0.89427255 0.86231176 0.82444235 0.8148949  0.85162549 0.91472863 0.96578431 0.99018471 1.         1.         1.         1.         1.         1.         1.         1.        ]\n",
            " [1.         1.         1.         1.         1.         1.         1.         0.99607843 0.9952451  0.9952451  0.9952451  0.99916667 1.         1.         1.         1.         1.         1.         1.         1.         1.         1.         1.         1.         1.         1.         1.         1.        ]]\n",
            "\n",
            "\n"
          ]
        },
        {
          "output_type": "display_data",
          "data": {
            "text/plain": [
              "<Figure size 640x480 with 2 Axes>"
            ],
            "image/png": "[encoded data removed]"
          },
          "metadata": {}
        }
      ]
    },
    {
      "cell_type": "code",
      "source": [
        "train_images  = train_images / 255.0\n",
        "test_images = test_images / 255.0"
      ],
      "metadata": {
        "id": "eU3n-S6ZTkyi"
      },
      "execution_count": 43,
      "outputs": []
    },
    {
      "cell_type": "code",
      "source": [
        "# You can put between 0 to 59999 here\n",
        "index = 10\n",
        "\n",
        "# Set number of characters per row when printing\n",
        "np.set_printoptions(linewidth=320)\n",
        "\n",
        "# Print the label and image\n",
        "print(f'LABEL: {train_labels[index]}')\n",
        "print(f'\\nIMAGE PIXEL ARRAY:\\n\\n{train_images[index]}\\n\\n')\n",
        "\n",
        "# Visualize the image using the default colormap (viridis)\n",
        "plt.imshow(train_images[index])\n",
        "plt.colorbar()\n",
        "plt.show()"
      ],
      "metadata": {
        "colab": {
          "base_uri": "https://localhost:8080/",
          "height": 1000
        },
        "id": "d_wXNKanhZug",
        "outputId": "51403fa9-b194-4e29-ce16-0090f9351530"
      },
      "execution_count": 91,
      "outputs": [
        {
          "output_type": "stream",
          "name": "stdout",
          "text": [
            "LABEL: 1\n",
            "\n",
            "IMAGE PIXEL ARRAY:\n",
            "\n",
            "[[0.75320902 0.75320902 0.76105216 0.76105216 0.76497373 0.76497373 0.76497373 0.76497373 0.76497373 0.76497373 0.76497373 0.76497373 0.76497373 0.76105216 0.76497373 0.76497373 0.76105216 0.76105216 0.76105216 0.75713059 0.75713059 0.75320902 0.74536588 0.74144431 0.73752275 0.73360118 0.72967961 0.72967961]\n",
            " [0.75320902 0.75320902 0.76105216 0.76105216 0.76497373 0.76497373 0.76497373 0.76497373 0.76497373 0.76497373 0.76497373 0.76497373 0.7613349  0.76442314 0.76917804 0.7660898  0.76105216 0.76105216 0.76105216 0.75713059 0.75713059 0.75320902 0.74536588 0.74536588 0.74144431 0.73360118 0.72967961 0.72967961]\n",
            " [0.75320902 0.75375961 0.75879725 0.76105216 0.76497373 0.76497373 0.76497373 0.76497373 0.76105216 0.76160275 0.76245098 0.76697569 0.76690824 0.66128745 0.72996314 0.75687059 0.76664039 0.76216824 0.75796392 0.75320902 0.75713059 0.75320902 0.74928745 0.74536588 0.74144431 0.73360118 0.72967961 0.72967961]\n",
            " [0.75320902 0.75487569 0.75934784 0.76497373 0.76497373 0.76497373 0.76497373 0.76497373 0.76188549 0.76498863 0.75624471 0.69986745 0.6981251  0.54932353 0.49898588 0.53635294 0.66795059 0.74151255 0.76442314 0.75713059 0.75713059 0.75320902 0.74928745 0.74536588 0.74536588 0.73752275 0.73360118 0.72967961]\n",
            " [0.75320902 0.75768118 0.76132    0.76497373 0.76497373 0.76497373 0.76497373 0.76497373 0.76974353 0.74386196 0.61217725 0.60404314 0.6558349  0.67522039 0.56438118 0.40818667 0.63083569 0.71929686 0.71520118 0.76131216 0.75629725 0.75320902 0.74928745 0.74536588 0.74536588 0.73752275 0.73360118 0.72967961]\n",
            " [0.75320902 0.75684784 0.76048667 0.76105216 0.76497373 0.76497373 0.76497373 0.76553922 0.7613051  0.59905059 0.54914039 0.60320196 0.64129451 0.68671725 0.72601529 0.55662745 0.45516941 0.69405529 0.6487251  0.70591373 0.76076157 0.75237569 0.74928745 0.74536588 0.74144431 0.73752275 0.73360118 0.72967961]\n",
            " [0.75320902 0.75292627 0.76076941 0.76105216 0.76497373 0.76497373 0.76497373 0.77199843 0.67298902 0.52677882 0.55169294 0.59789647 0.62730471 0.67806275 0.74547529 0.79321098 0.59783725 0.46032431 0.59232627 0.59599569 0.76019608 0.75320902 0.74928745 0.74536588 0.74144431 0.73360118 0.73360118 0.73360118]\n",
            " [0.75320902 0.75320902 0.75713059 0.76105216 0.76105216 0.76105216 0.76442314 0.75285882 0.58442784 0.5184     0.54050863 0.58250784 0.60882784 0.66123765 0.73031686 0.80533373 0.83928784 0.68868118 0.46553255 0.47201529 0.70978275 0.75377451 0.74536588 0.74536588 0.74144431 0.73752275 0.73360118 0.73360118]\n",
            " [0.75320902 0.75320902 0.75713059 0.76105216 0.76105216 0.76105216 0.76696078 0.70502431 0.54230157 0.49855412 0.52623608 0.5654298  0.58502275 0.64614667 0.71771098 0.78879137 0.83737608 0.84519647 0.70968078 0.47751333 0.64209608 0.75826157 0.74536588 0.74536588 0.74144431 0.73752275 0.73360118 0.73360118]\n",
            " [0.75320902 0.75713059 0.75713059 0.76105216 0.76105216 0.76105216 0.7660898  0.65804588 0.51878706 0.47587294 0.50048157 0.54190745 0.56403098 0.61391804 0.68095765 0.75649529 0.81687451 0.85251882 0.82131686 0.69948627 0.67636039 0.75234588 0.74564863 0.74536588 0.74536588 0.73752275 0.73360118 0.73360118]\n",
            " [0.74928745 0.75320902 0.75713059 0.75713059 0.76105216 0.76330706 0.75847686 0.61815961 0.48995216 0.4607749  0.48035294 0.51365294 0.53547098 0.57973216 0.65767333 0.72588863 0.79272706 0.82950235 0.83004588 0.77972784 0.73138902 0.74439059 0.74649686 0.74536588 0.74536588 0.74144431 0.73752275 0.73360118]\n",
            " [0.75320902 0.75320902 0.75713059 0.76105216 0.76105216 0.7635898  0.74916745 0.58393686 0.46756157 0.44790902 0.46413098 0.49490824 0.51645843 0.54950549 0.62237137 0.69306471 0.76886235 0.80900863 0.81574353 0.78844902 0.7394851  0.74229922 0.75323882 0.74928745 0.74536588 0.74536588 0.74144431 0.73752275]\n",
            " [0.75713059 0.75713059 0.76497373 0.76497373 0.76497373 0.76779412 0.74069137 0.55618824 0.45132471 0.4297298  0.44959843 0.47476471 0.48990824 0.52432431 0.59238275 0.65826863 0.73266745 0.77533647 0.78178078 0.78117843 0.74371922 0.74386941 0.76108196 0.76105216 0.75713059 0.75320902 0.74928745 0.74928745]\n",
            " [0.76889529 0.76889529 0.77281686 0.77281686 0.77673843 0.78348039 0.73728275 0.53768157 0.44685255 0.41968431 0.43282588 0.45714392 0.47730235 0.50304196 0.55763922 0.62854784 0.69421059 0.74192431 0.76128706 0.75759647 0.73163412 0.74294588 0.77368    0.77281686 0.76889529 0.76497373 0.76497373 0.76105216]\n",
            " [0.78066    0.78458157 0.78458157 0.78850314 0.78850314 0.79441176 0.73868157 0.53208549 0.44180706 0.42165647 0.42388157 0.43952314 0.45464392 0.48598667 0.52879647 0.59296314 0.65886392 0.70880275 0.73574078 0.73543608 0.71929608 0.74713529 0.78881569 0.78850314 0.78458157 0.78066    0.78066    0.77673843]\n",
            " [0.79242471 0.79634627 0.79717961 0.80026784 0.80026784 0.80617647 0.74961294 0.53487608 0.45050627 0.4323051  0.42725255 0.4339498  0.44403294 0.47423686 0.51480667 0.5587702  0.62492392 0.68128431 0.7037502  0.71185412 0.70023098 0.75700235 0.80450196 0.80418941 0.80026784 0.79634627 0.79634627 0.79634627]\n",
            " [0.80418941 0.80977765 0.81089373 0.81595412 0.81595412 0.82269608 0.76785961 0.53372235 0.46282157 0.44909255 0.44460549 0.44571451 0.45187608 0.46443647 0.49549647 0.54001059 0.58623608 0.64174824 0.67569608 0.68659765 0.68593569 0.77221255 0.82354431 0.81987569 0.81595412 0.81203255 0.81203255 0.81203255]\n",
            " [0.82379725 0.82265843 0.82658    0.82771882 0.83164039 0.83529412 0.79452196 0.54378275 0.46920549 0.46303686 0.45716588 0.45912314 0.45772431 0.46780745 0.48878431 0.52768745 0.5613     0.61034588 0.64846039 0.66553843 0.67698353 0.79891961 0.83585961 0.83164039 0.83275647 0.83164039 0.82771882 0.82491333]\n",
            " [0.83442314 0.83442314 0.83834471 0.84031686 0.8434051  0.84677608 0.82652745 0.56117333 0.47335725 0.46944353 0.46721137 0.46581255 0.46973412 0.47617843 0.49101647 0.51368275 0.54785373 0.59099098 0.62656784 0.64531255 0.67815922 0.83182588 0.84705882 0.84732667 0.84535451 0.84423843 0.83948353 0.83834471]\n",
            " [0.84618784 0.85010941 0.85403098 0.8551698  0.8551698  0.85797529 0.86329569 0.61112    0.46347451 0.46798431 0.46546941 0.47219647 0.47640078 0.48339569 0.49264549 0.50553412 0.53268745 0.57301216 0.60745804 0.62535451 0.69929294 0.86384627 0.86217961 0.85909137 0.85795255 0.85600314 0.8551698  0.85403098]\n",
            " [0.85403098 0.85711922 0.85992471 0.85909137 0.86384627 0.86187412 0.87871412 0.71640118 0.43875373 0.45447765 0.46120471 0.46904784 0.47691373 0.48280745 0.49317333 0.5063149  0.52816275 0.55812157 0.58724706 0.60597686 0.75837059 0.87619137 0.86860118 0.86579569 0.86579569 0.86579569 0.86496235 0.86579569]\n",
            " [0.86187412 0.86384627 0.86693451 0.87085608 0.87168941 0.87363882 0.88093137 0.85481176 0.47812627 0.41102706 0.4426902  0.4566949  0.4712651  0.47882549 0.48582039 0.50178235 0.52194863 0.54406431 0.56644784 0.62315137 0.84943882 0.88430235 0.87756039 0.87756039 0.87756039 0.87363882 0.87363882 0.87363882]\n",
            " [0.84927608 0.84927608 0.85319765 0.85600314 0.86132353 0.86552784 0.86662902 0.89411765 0.68056353 0.36008353 0.40319098 0.43651373 0.45694    0.47289412 0.48326    0.49753255 0.51824941 0.54120627 0.55686275 0.75720902 0.90419294 0.89155725 0.88960784 0.89213059 0.89241333 0.88568627 0.88596902 0.8893251 ]\n",
            " [0.80026784 0.78933647 0.77923843 0.7660749  0.75150471 0.74561098 0.74333333 0.75061098 0.7643102  0.47083569 0.32623294 0.38302471 0.42526902 0.45352353 0.47592196 0.49637098 0.51678235 0.53214118 0.67824    0.89038863 0.89796392 0.89768118 0.89796392 0.9013349  0.9013349  0.89686275 0.89995098 0.9010898 ]\n",
            " [0.76580706 0.73051294 0.68231529 0.63042627 0.59342784 0.5693102  0.55444235 0.54208941 0.53087529 0.49300588 0.30503569 0.23508549 0.28734471 0.3449549  0.38717647 0.42073647 0.43809725 0.5540349  0.77247882 0.84207098 0.86731961 0.88304353 0.89006824 0.89624471 0.8968102  0.90326941 0.90385765 0.90501137]\n",
            " [0.80697216 0.78372549 0.7520702  0.71562235 0.67581843 0.64524157 0.61832627 0.58691608 0.54682941 0.4918898  0.42348118 0.34357569 0.33038941 0.35245961 0.39581216 0.45235098 0.54984745 0.69255059 0.78425843 0.83140745 0.86256471 0.88164471 0.88895216 0.89541137 0.8990651  0.90160275 0.90330706 0.90501137]\n",
            " [0.85319765 0.85010941 0.84535451 0.83553922 0.83050157 0.82151961 0.81619922 0.80610118 0.79880863 0.79346549 0.79345059 0.79650118 0.7956451  0.80601098 0.81749294 0.83598471 0.84941608 0.85615804 0.86962706 0.87803569 0.88730039 0.89347686 0.89713059 0.89824667 0.90330706 0.90192314 0.89828431 0.89716824]\n",
            " [0.86693451 0.86693451 0.86805059 0.86691176 0.86691176 0.86971725 0.86888392 0.86579569 0.86215686 0.86496235 0.86943451 0.86717961 0.86912902 0.87305059 0.87305059 0.87585608 0.87668941 0.88172706 0.88481529 0.88790353 0.89210784 0.89210784 0.89127451 0.89716824 0.89324667 0.89324667 0.89324667 0.8893251 ]]\n",
            "\n",
            "\n"
          ]
        },
        {
          "output_type": "display_data",
          "data": {
            "text/plain": [
              "<Figure size 640x480 with 2 Axes>"
            ],
            "image/png": "[encoded data removed]"
          },
          "metadata": {}
        }
      ]
    },
    {
      "cell_type": "code",
      "source": [
        "def train_normal():\n",
        "\n",
        "  model = tf.keras.models.Sequential([\n",
        "   tf.keras.Input(shape=(28,28)),\n",
        "   tf.keras.layers.Flatten(),\n",
        "   tf.keras.layers.Dense(128, activation=tf.nn.relu),\n",
        "   tf.keras.layers.Dense(2, activation=tf.nn.softmax)\n",
        "  ])\n",
        "  return model\n",
        "\n"
      ],
      "metadata": {
        "id": "ZT6AFZjcTtdL"
      },
      "execution_count": 57,
      "outputs": []
    },
    {
      "cell_type": "code",
      "source": [
        "def train_conv():\n",
        "  model = tf.keras.models.Sequential([\n",
        "     tf.keras.Input(shape=(28,28,1)),\n",
        "    tf.keras.layers.Conv2D(64, (3,3), activation='relu'),\n",
        "    tf.keras.layers.MaxPooling2D(2, 2),\n",
        "    tf.keras.layers.Conv2D(64, (3,3), activation='relu'),\n",
        "    tf.keras.layers.MaxPooling2D(2,2),\n",
        "\n",
        "    # Add the same layers as before\n",
        "    tf.keras.layers.Flatten(),\n",
        "    tf.keras.layers.Dense(128, activation='relu'),\n",
        "    tf.keras.layers.Dense(2, activation='softmax')\n",
        "  ])\n",
        "  return model"
      ],
      "metadata": {
        "id": "tAyaHEBiji6r"
      },
      "execution_count": 98,
      "outputs": []
    },
    {
      "cell_type": "code",
      "source": [
        "model=train_normal()\n",
        "\n",
        "model.compile(optimizer = tf.optimizers.Adam(),\n",
        "              loss = 'sparse_categorical_crossentropy',\n",
        "              metrics=['accuracy'])\n",
        "\n",
        "model.fit(train_images, train_labels, epochs=20)\n",
        "model.summary()\n",
        "\n",
        "print(\"\\nMODEL EVALUATION:\")\n",
        "test_loss, test_accuracy = model.evaluate(test_images, test_labels, verbose=0)\n",
        "print(f'test set accuracy: {test_accuracy}')\n",
        "print(f'test set loss: {test_loss}')"
      ],
      "metadata": {
        "colab": {
          "base_uri": "https://localhost:8080/",
          "height": 1000
        },
        "id": "ThdwBlKpkU2y",
        "outputId": "b96239d4-bc92-4dd6-9cb7-745984da184c"
      },
      "execution_count": 75,
      "outputs": [
        {
          "output_type": "stream",
          "name": "stdout",
          "text": [
            "Epoch 1/20\n",
            "\u001b[1m1/1\u001b[0m \u001b[32m━━━━━━━━━━━━━━━━━━━━\u001b[0m\u001b[37m\u001b[0m \u001b[1m1s\u001b[0m 770ms/step - accuracy: 0.5000 - loss: 1.3885\n",
            "Epoch 2/20\n",
            "\u001b[1m1/1\u001b[0m \u001b[32m━━━━━━━━━━━━━━━━━━━━\u001b[0m\u001b[37m\u001b[0m \u001b[1m0s\u001b[0m 31ms/step - accuracy: 0.5000 - loss: 1.5157\n",
            "Epoch 3/20\n",
            "\u001b[1m1/1\u001b[0m \u001b[32m━━━━━━━━━━━━━━━━━━━━\u001b[0m\u001b[37m\u001b[0m \u001b[1m0s\u001b[0m 30ms/step - accuracy: 0.5000 - loss: 1.2643\n",
            "Epoch 4/20\n",
            "\u001b[1m1/1\u001b[0m \u001b[32m━━━━━━━━━━━━━━━━━━━━\u001b[0m\u001b[37m\u001b[0m \u001b[1m0s\u001b[0m 30ms/step - accuracy: 0.5000 - loss: 0.6668\n",
            "Epoch 5/20\n",
            "\u001b[1m1/1\u001b[0m \u001b[32m━━━━━━━━━━━━━━━━━━━━\u001b[0m\u001b[37m\u001b[0m \u001b[1m0s\u001b[0m 33ms/step - accuracy: 0.5000 - loss: 0.7449\n",
            "Epoch 6/20\n",
            "\u001b[1m1/1\u001b[0m \u001b[32m━━━━━━━━━━━━━━━━━━━━\u001b[0m\u001b[37m\u001b[0m \u001b[1m0s\u001b[0m 29ms/step - accuracy: 0.5000 - loss: 0.9397\n",
            "Epoch 7/20\n",
            "\u001b[1m1/1\u001b[0m \u001b[32m━━━━━━━━━━━━━━━━━━━━\u001b[0m\u001b[37m\u001b[0m \u001b[1m0s\u001b[0m 58ms/step - accuracy: 0.5000 - loss: 0.8166\n",
            "Epoch 8/20\n",
            "\u001b[1m1/1\u001b[0m \u001b[32m━━━━━━━━━━━━━━━━━━━━\u001b[0m\u001b[37m\u001b[0m \u001b[1m0s\u001b[0m 57ms/step - accuracy: 0.5833 - loss: 0.5875\n",
            "Epoch 9/20\n",
            "\u001b[1m1/1\u001b[0m \u001b[32m━━━━━━━━━━━━━━━━━━━━\u001b[0m\u001b[37m\u001b[0m \u001b[1m0s\u001b[0m 31ms/step - accuracy: 0.6667 - loss: 0.5503\n",
            "Epoch 10/20\n",
            "\u001b[1m1/1\u001b[0m \u001b[32m━━━━━━━━━━━━━━━━━━━━\u001b[0m\u001b[37m\u001b[0m \u001b[1m0s\u001b[0m 37ms/step - accuracy: 0.5000 - loss: 0.6538\n",
            "Epoch 11/20\n",
            "\u001b[1m1/1\u001b[0m \u001b[32m━━━━━━━━━━━━━━━━━━━━\u001b[0m\u001b[37m\u001b[0m \u001b[1m0s\u001b[0m 62ms/step - accuracy: 0.5000 - loss: 0.6790\n",
            "Epoch 12/20\n",
            "\u001b[1m1/1\u001b[0m \u001b[32m━━━━━━━━━━━━━━━━━━━━\u001b[0m\u001b[37m\u001b[0m \u001b[1m0s\u001b[0m 39ms/step - accuracy: 0.5000 - loss: 0.5879\n",
            "Epoch 13/20\n",
            "\u001b[1m1/1\u001b[0m \u001b[32m━━━━━━━━━━━━━━━━━━━━\u001b[0m\u001b[37m\u001b[0m \u001b[1m0s\u001b[0m 57ms/step - accuracy: 0.9167 - loss: 0.4826\n",
            "Epoch 14/20\n",
            "\u001b[1m1/1\u001b[0m \u001b[32m━━━━━━━━━━━━━━━━━━━━\u001b[0m\u001b[37m\u001b[0m \u001b[1m0s\u001b[0m 36ms/step - accuracy: 0.8333 - loss: 0.4695\n",
            "Epoch 15/20\n",
            "\u001b[1m1/1\u001b[0m \u001b[32m━━━━━━━━━━━━━━━━━━━━\u001b[0m\u001b[37m\u001b[0m \u001b[1m0s\u001b[0m 30ms/step - accuracy: 0.6667 - loss: 0.5187\n",
            "Epoch 16/20\n",
            "\u001b[1m1/1\u001b[0m \u001b[32m━━━━━━━━━━━━━━━━━━━━\u001b[0m\u001b[37m\u001b[0m \u001b[1m0s\u001b[0m 31ms/step - accuracy: 0.5833 - loss: 0.5307\n",
            "Epoch 17/20\n",
            "\u001b[1m1/1\u001b[0m \u001b[32m━━━━━━━━━━━━━━━━━━━━\u001b[0m\u001b[37m\u001b[0m \u001b[1m0s\u001b[0m 29ms/step - accuracy: 0.6667 - loss: 0.4799\n",
            "Epoch 18/20\n",
            "\u001b[1m1/1\u001b[0m \u001b[32m━━━━━━━━━━━━━━━━━━━━\u001b[0m\u001b[37m\u001b[0m \u001b[1m0s\u001b[0m 30ms/step - accuracy: 1.0000 - loss: 0.4177\n",
            "Epoch 19/20\n",
            "\u001b[1m1/1\u001b[0m \u001b[32m━━━━━━━━━━━━━━━━━━━━\u001b[0m\u001b[37m\u001b[0m \u001b[1m0s\u001b[0m 33ms/step - accuracy: 1.0000 - loss: 0.4003\n",
            "Epoch 20/20\n",
            "\u001b[1m1/1\u001b[0m \u001b[32m━━━━━━━━━━━━━━━━━━━━\u001b[0m\u001b[37m\u001b[0m \u001b[1m0s\u001b[0m 34ms/step - accuracy: 0.9167 - loss: 0.4207\n"
          ]
        },
        {
          "output_type": "display_data",
          "data": {
            "text/plain": [
              "\u001b[1mModel: \"sequential_12\"\u001b[0m\n"
            ],
            "text/html": [
              "<pre style=\"white-space:pre;overflow-x:auto;line-height:normal;font-family:Menlo,'DejaVu Sans Mono',consolas,'Courier New',monospace\"><span style=\"font-weight: bold\">Model: \"sequential_12\"</span>\n",
              "</pre>\n"
            ]
          },
          "metadata": {}
        },
        {
          "output_type": "display_data",
          "data": {
            "text/plain": [
              "┏━━━━━━━━━━━━━━━━━━━━━━━━━━━━━━━━━━━━━━┳━━━━━━━━━━━━━━━━━━━━━━━━━━━━━┳━━━━━━━━━━━━━━━━━┓\n",
              "┃\u001b[1m \u001b[0m\u001b[1mLayer (type)                        \u001b[0m\u001b[1m \u001b[0m┃\u001b[1m \u001b[0m\u001b[1mOutput Shape               \u001b[0m\u001b[1m \u001b[0m┃\u001b[1m \u001b[0m\u001b[1m        Param #\u001b[0m\u001b[1m \u001b[0m┃\n",
              "┡━━━━━━━━━━━━━━━━━━━━━━━━━━━━━━━━━━━━━━╇━━━━━━━━━━━━━━━━━━━━━━━━━━━━━╇━━━━━━━━━━━━━━━━━┩\n",
              "│ flatten_12 (\u001b[38;5;33mFlatten\u001b[0m)                 │ (\u001b[38;5;45mNone\u001b[0m, \u001b[38;5;34m784\u001b[0m)                 │               \u001b[38;5;34m0\u001b[0m │\n",
              "├──────────────────────────────────────┼─────────────────────────────┼─────────────────┤\n",
              "│ dense_24 (\u001b[38;5;33mDense\u001b[0m)                     │ (\u001b[38;5;45mNone\u001b[0m, \u001b[38;5;34m128\u001b[0m)                 │         \u001b[38;5;34m100,480\u001b[0m │\n",
              "├──────────────────────────────────────┼─────────────────────────────┼─────────────────┤\n",
              "│ dense_25 (\u001b[38;5;33mDense\u001b[0m)                     │ (\u001b[38;5;45mNone\u001b[0m, \u001b[38;5;34m2\u001b[0m)                   │             \u001b[38;5;34m258\u001b[0m │\n",
              "└──────────────────────────────────────┴─────────────────────────────┴─────────────────┘\n"
            ],
            "text/html": [
              "<pre style=\"white-space:pre;overflow-x:auto;line-height:normal;font-family:Menlo,'DejaVu Sans Mono',consolas,'Courier New',monospace\">┏━━━━━━━━━━━━━━━━━━━━━━━━━━━━━━━━━━━━━━┳━━━━━━━━━━━━━━━━━━━━━━━━━━━━━┳━━━━━━━━━━━━━━━━━┓\n",
              "┃<span style=\"font-weight: bold\"> Layer (type)                         </span>┃<span style=\"font-weight: bold\"> Output Shape                </span>┃<span style=\"font-weight: bold\">         Param # </span>┃\n",
              "┡━━━━━━━━━━━━━━━━━━━━━━━━━━━━━━━━━━━━━━╇━━━━━━━━━━━━━━━━━━━━━━━━━━━━━╇━━━━━━━━━━━━━━━━━┩\n",
              "│ flatten_12 (<span style=\"color: #0087ff; text-decoration-color: #0087ff\">Flatten</span>)                 │ (<span style=\"color: #00d7ff; text-decoration-color: #00d7ff\">None</span>, <span style=\"color: #00af00; text-decoration-color: #00af00\">784</span>)                 │               <span style=\"color: #00af00; text-decoration-color: #00af00\">0</span> │\n",
              "├──────────────────────────────────────┼─────────────────────────────┼─────────────────┤\n",
              "│ dense_24 (<span style=\"color: #0087ff; text-decoration-color: #0087ff\">Dense</span>)                     │ (<span style=\"color: #00d7ff; text-decoration-color: #00d7ff\">None</span>, <span style=\"color: #00af00; text-decoration-color: #00af00\">128</span>)                 │         <span style=\"color: #00af00; text-decoration-color: #00af00\">100,480</span> │\n",
              "├──────────────────────────────────────┼─────────────────────────────┼─────────────────┤\n",
              "│ dense_25 (<span style=\"color: #0087ff; text-decoration-color: #0087ff\">Dense</span>)                     │ (<span style=\"color: #00d7ff; text-decoration-color: #00d7ff\">None</span>, <span style=\"color: #00af00; text-decoration-color: #00af00\">2</span>)                   │             <span style=\"color: #00af00; text-decoration-color: #00af00\">258</span> │\n",
              "└──────────────────────────────────────┴─────────────────────────────┴─────────────────┘\n",
              "</pre>\n"
            ]
          },
          "metadata": {}
        },
        {
          "output_type": "display_data",
          "data": {
            "text/plain": [
              "\u001b[1m Total params: \u001b[0m\u001b[38;5;34m302,216\u001b[0m (1.15 MB)\n"
            ],
            "text/html": [
              "<pre style=\"white-space:pre;overflow-x:auto;line-height:normal;font-family:Menlo,'DejaVu Sans Mono',consolas,'Courier New',monospace\"><span style=\"font-weight: bold\"> Total params: </span><span style=\"color: #00af00; text-decoration-color: #00af00\">302,216</span> (1.15 MB)\n",
              "</pre>\n"
            ]
          },
          "metadata": {}
        },
        {
          "output_type": "display_data",
          "data": {
            "text/plain": [
              "\u001b[1m Trainable params: \u001b[0m\u001b[38;5;34m100,738\u001b[0m (393.51 KB)\n"
            ],
            "text/html": [
              "<pre style=\"white-space:pre;overflow-x:auto;line-height:normal;font-family:Menlo,'DejaVu Sans Mono',consolas,'Courier New',monospace\"><span style=\"font-weight: bold\"> Trainable params: </span><span style=\"color: #00af00; text-decoration-color: #00af00\">100,738</span> (393.51 KB)\n",
              "</pre>\n"
            ]
          },
          "metadata": {}
        },
        {
          "output_type": "display_data",
          "data": {
            "text/plain": [
              "\u001b[1m Non-trainable params: \u001b[0m\u001b[38;5;34m0\u001b[0m (0.00 B)\n"
            ],
            "text/html": [
              "<pre style=\"white-space:pre;overflow-x:auto;line-height:normal;font-family:Menlo,'DejaVu Sans Mono',consolas,'Courier New',monospace\"><span style=\"font-weight: bold\"> Non-trainable params: </span><span style=\"color: #00af00; text-decoration-color: #00af00\">0</span> (0.00 B)\n",
              "</pre>\n"
            ]
          },
          "metadata": {}
        },
        {
          "output_type": "display_data",
          "data": {
            "text/plain": [
              "\u001b[1m Optimizer params: \u001b[0m\u001b[38;5;34m201,478\u001b[0m (787.03 KB)\n"
            ],
            "text/html": [
              "<pre style=\"white-space:pre;overflow-x:auto;line-height:normal;font-family:Menlo,'DejaVu Sans Mono',consolas,'Courier New',monospace\"><span style=\"font-weight: bold\"> Optimizer params: </span><span style=\"color: #00af00; text-decoration-color: #00af00\">201,478</span> (787.03 KB)\n",
              "</pre>\n"
            ]
          },
          "metadata": {}
        },
        {
          "output_type": "stream",
          "name": "stdout",
          "text": [
            "\n",
            "MODEL EVALUATION:\n",
            "test set accuracy: 0.3333333432674408\n",
            "test set loss: 0.7608764171600342\n"
          ]
        }
      ]
    },
    {
      "cell_type": "code",
      "source": [
        "model=train_conv()\n",
        "\n",
        "model.compile(optimizer = tf.optimizers.Adam(),\n",
        "              loss = 'sparse_categorical_crossentropy',\n",
        "              metrics=['accuracy'])\n",
        "\n",
        "model.fit(train_images, train_labels, epochs=20)\n",
        "model.summary()\n",
        "\n",
        "print(\"\\nMODEL EVALUATION:\")\n",
        "test_loss, test_accuracy = model.evaluate(test_images, test_labels, verbose=0)\n",
        "print(f'test set accuracy: {test_accuracy}')\n",
        "print(f'test set loss: {test_loss}')"
      ],
      "metadata": {
        "colab": {
          "base_uri": "https://localhost:8080/",
          "height": 1000
        },
        "id": "hdsAOVuaUTqp",
        "outputId": "f30bcaa0-c0f8-4ac8-9e84-f17f369262ba"
      },
      "execution_count": 99,
      "outputs": [
        {
          "output_type": "stream",
          "name": "stdout",
          "text": [
            "Epoch 1/20\n",
            "\u001b[1m1/1\u001b[0m \u001b[32m━━━━━━━━━━━━━━━━━━━━\u001b[0m\u001b[37m\u001b[0m \u001b[1m1s\u001b[0m 1s/step - accuracy: 0.5000 - loss: 0.6972\n",
            "Epoch 2/20\n",
            "\u001b[1m1/1\u001b[0m \u001b[32m━━━━━━━━━━━━━━━━━━━━\u001b[0m\u001b[37m\u001b[0m \u001b[1m0s\u001b[0m 53ms/step - accuracy: 0.5000 - loss: 0.6859\n",
            "Epoch 3/20\n",
            "\u001b[1m1/1\u001b[0m \u001b[32m━━━━━━━━━━━━━━━━━━━━\u001b[0m\u001b[37m\u001b[0m \u001b[1m0s\u001b[0m 69ms/step - accuracy: 0.5000 - loss: 0.6501\n",
            "Epoch 4/20\n",
            "\u001b[1m1/1\u001b[0m \u001b[32m━━━━━━━━━━━━━━━━━━━━\u001b[0m\u001b[37m\u001b[0m \u001b[1m0s\u001b[0m 67ms/step - accuracy: 1.0000 - loss: 0.6199\n",
            "Epoch 5/20\n",
            "\u001b[1m1/1\u001b[0m \u001b[32m━━━━━━━━━━━━━━━━━━━━\u001b[0m\u001b[37m\u001b[0m \u001b[1m0s\u001b[0m 147ms/step - accuracy: 1.0000 - loss: 0.5891\n",
            "Epoch 6/20\n",
            "\u001b[1m1/1\u001b[0m \u001b[32m━━━━━━━━━━━━━━━━━━━━\u001b[0m\u001b[37m\u001b[0m \u001b[1m0s\u001b[0m 130ms/step - accuracy: 1.0000 - loss: 0.5524\n",
            "Epoch 7/20\n",
            "\u001b[1m1/1\u001b[0m \u001b[32m━━━━━━━━━━━━━━━━━━━━\u001b[0m\u001b[37m\u001b[0m \u001b[1m0s\u001b[0m 152ms/step - accuracy: 1.0000 - loss: 0.5124\n",
            "Epoch 8/20\n",
            "\u001b[1m1/1\u001b[0m \u001b[32m━━━━━━━━━━━━━━━━━━━━\u001b[0m\u001b[37m\u001b[0m \u001b[1m0s\u001b[0m 125ms/step - accuracy: 1.0000 - loss: 0.4645\n",
            "Epoch 9/20\n",
            "\u001b[1m1/1\u001b[0m \u001b[32m━━━━━━━━━━━━━━━━━━━━\u001b[0m\u001b[37m\u001b[0m \u001b[1m0s\u001b[0m 75ms/step - accuracy: 1.0000 - loss: 0.4111\n",
            "Epoch 10/20\n",
            "\u001b[1m1/1\u001b[0m \u001b[32m━━━━━━━━━━━━━━━━━━━━\u001b[0m\u001b[37m\u001b[0m \u001b[1m0s\u001b[0m 78ms/step - accuracy: 1.0000 - loss: 0.3563\n",
            "Epoch 11/20\n",
            "\u001b[1m1/1\u001b[0m \u001b[32m━━━━━━━━━━━━━━━━━━━━\u001b[0m\u001b[37m\u001b[0m \u001b[1m0s\u001b[0m 69ms/step - accuracy: 1.0000 - loss: 0.2989\n",
            "Epoch 12/20\n",
            "\u001b[1m1/1\u001b[0m \u001b[32m━━━━━━━━━━━━━━━━━━━━\u001b[0m\u001b[37m\u001b[0m \u001b[1m0s\u001b[0m 143ms/step - accuracy: 1.0000 - loss: 0.2452\n",
            "Epoch 13/20\n",
            "\u001b[1m1/1\u001b[0m \u001b[32m━━━━━━━━━━━━━━━━━━━━\u001b[0m\u001b[37m\u001b[0m \u001b[1m0s\u001b[0m 73ms/step - accuracy: 1.0000 - loss: 0.1931\n",
            "Epoch 14/20\n",
            "\u001b[1m1/1\u001b[0m \u001b[32m━━━━━━━━━━━━━━━━━━━━\u001b[0m\u001b[37m\u001b[0m \u001b[1m0s\u001b[0m 69ms/step - accuracy: 1.0000 - loss: 0.1484\n",
            "Epoch 15/20\n",
            "\u001b[1m1/1\u001b[0m \u001b[32m━━━━━━━━━━━━━━━━━━━━\u001b[0m\u001b[37m\u001b[0m \u001b[1m0s\u001b[0m 72ms/step - accuracy: 1.0000 - loss: 0.1093\n",
            "Epoch 16/20\n",
            "\u001b[1m1/1\u001b[0m \u001b[32m━━━━━━━━━━━━━━━━━━━━\u001b[0m\u001b[37m\u001b[0m \u001b[1m0s\u001b[0m 85ms/step - accuracy: 1.0000 - loss: 0.0787\n",
            "Epoch 17/20\n",
            "\u001b[1m1/1\u001b[0m \u001b[32m━━━━━━━━━━━━━━━━━━━━\u001b[0m\u001b[37m\u001b[0m \u001b[1m0s\u001b[0m 72ms/step - accuracy: 1.0000 - loss: 0.0551\n",
            "Epoch 18/20\n",
            "\u001b[1m1/1\u001b[0m \u001b[32m━━━━━━━━━━━━━━━━━━━━\u001b[0m\u001b[37m\u001b[0m \u001b[1m0s\u001b[0m 89ms/step - accuracy: 1.0000 - loss: 0.0378\n",
            "Epoch 19/20\n",
            "\u001b[1m1/1\u001b[0m \u001b[32m━━━━━━━━━━━━━━━━━━━━\u001b[0m\u001b[37m\u001b[0m \u001b[1m0s\u001b[0m 145ms/step - accuracy: 1.0000 - loss: 0.0253\n",
            "Epoch 20/20\n",
            "\u001b[1m1/1\u001b[0m \u001b[32m━━━━━━━━━━━━━━━━━━━━\u001b[0m\u001b[37m\u001b[0m \u001b[1m0s\u001b[0m 82ms/step - accuracy: 1.0000 - loss: 0.0170\n"
          ]
        },
        {
          "output_type": "display_data",
          "data": {
            "text/plain": [
              "\u001b[1mModel: \"sequential_13\"\u001b[0m\n"
            ],
            "text/html": [
              "<pre style=\"white-space:pre;overflow-x:auto;line-height:normal;font-family:Menlo,'DejaVu Sans Mono',consolas,'Courier New',monospace\"><span style=\"font-weight: bold\">Model: \"sequential_13\"</span>\n",
              "</pre>\n"
            ]
          },
          "metadata": {}
        },
        {
          "output_type": "display_data",
          "data": {
            "text/plain": [
              "┏━━━━━━━━━━━━━━━━━━━━━━━━━━━━━━━━━━━━━━┳━━━━━━━━━━━━━━━━━━━━━━━━━━━━━┳━━━━━━━━━━━━━━━━━┓\n",
              "┃\u001b[1m \u001b[0m\u001b[1mLayer (type)                        \u001b[0m\u001b[1m \u001b[0m┃\u001b[1m \u001b[0m\u001b[1mOutput Shape               \u001b[0m\u001b[1m \u001b[0m┃\u001b[1m \u001b[0m\u001b[1m        Param #\u001b[0m\u001b[1m \u001b[0m┃\n",
              "┡━━━━━━━━━━━━━━━━━━━━━━━━━━━━━━━━━━━━━━╇━━━━━━━━━━━━━━━━━━━━━━━━━━━━━╇━━━━━━━━━━━━━━━━━┩\n",
              "│ conv2d_10 (\u001b[38;5;33mConv2D\u001b[0m)                   │ (\u001b[38;5;45mNone\u001b[0m, \u001b[38;5;34m26\u001b[0m, \u001b[38;5;34m26\u001b[0m, \u001b[38;5;34m64\u001b[0m)          │             \u001b[38;5;34m640\u001b[0m │\n",
              "├──────────────────────────────────────┼─────────────────────────────┼─────────────────┤\n",
              "│ max_pooling2d_10 (\u001b[38;5;33mMaxPooling2D\u001b[0m)      │ (\u001b[38;5;45mNone\u001b[0m, \u001b[38;5;34m13\u001b[0m, \u001b[38;5;34m13\u001b[0m, \u001b[38;5;34m64\u001b[0m)          │               \u001b[38;5;34m0\u001b[0m │\n",
              "├──────────────────────────────────────┼─────────────────────────────┼─────────────────┤\n",
              "│ conv2d_11 (\u001b[38;5;33mConv2D\u001b[0m)                   │ (\u001b[38;5;45mNone\u001b[0m, \u001b[38;5;34m11\u001b[0m, \u001b[38;5;34m11\u001b[0m, \u001b[38;5;34m64\u001b[0m)          │          \u001b[38;5;34m36,928\u001b[0m │\n",
              "├──────────────────────────────────────┼─────────────────────────────┼─────────────────┤\n",
              "│ max_pooling2d_11 (\u001b[38;5;33mMaxPooling2D\u001b[0m)      │ (\u001b[38;5;45mNone\u001b[0m, \u001b[38;5;34m5\u001b[0m, \u001b[38;5;34m5\u001b[0m, \u001b[38;5;34m64\u001b[0m)            │               \u001b[38;5;34m0\u001b[0m │\n",
              "├──────────────────────────────────────┼─────────────────────────────┼─────────────────┤\n",
              "│ flatten_13 (\u001b[38;5;33mFlatten\u001b[0m)                 │ (\u001b[38;5;45mNone\u001b[0m, \u001b[38;5;34m1600\u001b[0m)                │               \u001b[38;5;34m0\u001b[0m │\n",
              "├──────────────────────────────────────┼─────────────────────────────┼─────────────────┤\n",
              "│ dense_26 (\u001b[38;5;33mDense\u001b[0m)                     │ (\u001b[38;5;45mNone\u001b[0m, \u001b[38;5;34m128\u001b[0m)                 │         \u001b[38;5;34m204,928\u001b[0m │\n",
              "├──────────────────────────────────────┼─────────────────────────────┼─────────────────┤\n",
              "│ dense_27 (\u001b[38;5;33mDense\u001b[0m)                     │ (\u001b[38;5;45mNone\u001b[0m, \u001b[38;5;34m2\u001b[0m)                   │             \u001b[38;5;34m258\u001b[0m │\n",
              "└──────────────────────────────────────┴─────────────────────────────┴─────────────────┘\n"
            ],
            "text/html": [
              "<pre style=\"white-space:pre;overflow-x:auto;line-height:normal;font-family:Menlo,'DejaVu Sans Mono',consolas,'Courier New',monospace\">┏━━━━━━━━━━━━━━━━━━━━━━━━━━━━━━━━━━━━━━┳━━━━━━━━━━━━━━━━━━━━━━━━━━━━━┳━━━━━━━━━━━━━━━━━┓\n",
              "┃<span style=\"font-weight: bold\"> Layer (type)                         </span>┃<span style=\"font-weight: bold\"> Output Shape                </span>┃<span style=\"font-weight: bold\">         Param # </span>┃\n",
              "┡━━━━━━━━━━━━━━━━━━━━━━━━━━━━━━━━━━━━━━╇━━━━━━━━━━━━━━━━━━━━━━━━━━━━━╇━━━━━━━━━━━━━━━━━┩\n",
              "│ conv2d_10 (<span style=\"color: #0087ff; text-decoration-color: #0087ff\">Conv2D</span>)                   │ (<span style=\"color: #00d7ff; text-decoration-color: #00d7ff\">None</span>, <span style=\"color: #00af00; text-decoration-color: #00af00\">26</span>, <span style=\"color: #00af00; text-decoration-color: #00af00\">26</span>, <span style=\"color: #00af00; text-decoration-color: #00af00\">64</span>)          │             <span style=\"color: #00af00; text-decoration-color: #00af00\">640</span> │\n",
              "├──────────────────────────────────────┼─────────────────────────────┼─────────────────┤\n",
              "│ max_pooling2d_10 (<span style=\"color: #0087ff; text-decoration-color: #0087ff\">MaxPooling2D</span>)      │ (<span style=\"color: #00d7ff; text-decoration-color: #00d7ff\">None</span>, <span style=\"color: #00af00; text-decoration-color: #00af00\">13</span>, <span style=\"color: #00af00; text-decoration-color: #00af00\">13</span>, <span style=\"color: #00af00; text-decoration-color: #00af00\">64</span>)          │               <span style=\"color: #00af00; text-decoration-color: #00af00\">0</span> │\n",
              "├──────────────────────────────────────┼─────────────────────────────┼─────────────────┤\n",
              "│ conv2d_11 (<span style=\"color: #0087ff; text-decoration-color: #0087ff\">Conv2D</span>)                   │ (<span style=\"color: #00d7ff; text-decoration-color: #00d7ff\">None</span>, <span style=\"color: #00af00; text-decoration-color: #00af00\">11</span>, <span style=\"color: #00af00; text-decoration-color: #00af00\">11</span>, <span style=\"color: #00af00; text-decoration-color: #00af00\">64</span>)          │          <span style=\"color: #00af00; text-decoration-color: #00af00\">36,928</span> │\n",
              "├──────────────────────────────────────┼─────────────────────────────┼─────────────────┤\n",
              "│ max_pooling2d_11 (<span style=\"color: #0087ff; text-decoration-color: #0087ff\">MaxPooling2D</span>)      │ (<span style=\"color: #00d7ff; text-decoration-color: #00d7ff\">None</span>, <span style=\"color: #00af00; text-decoration-color: #00af00\">5</span>, <span style=\"color: #00af00; text-decoration-color: #00af00\">5</span>, <span style=\"color: #00af00; text-decoration-color: #00af00\">64</span>)            │               <span style=\"color: #00af00; text-decoration-color: #00af00\">0</span> │\n",
              "├──────────────────────────────────────┼─────────────────────────────┼─────────────────┤\n",
              "│ flatten_13 (<span style=\"color: #0087ff; text-decoration-color: #0087ff\">Flatten</span>)                 │ (<span style=\"color: #00d7ff; text-decoration-color: #00d7ff\">None</span>, <span style=\"color: #00af00; text-decoration-color: #00af00\">1600</span>)                │               <span style=\"color: #00af00; text-decoration-color: #00af00\">0</span> │\n",
              "├──────────────────────────────────────┼─────────────────────────────┼─────────────────┤\n",
              "│ dense_26 (<span style=\"color: #0087ff; text-decoration-color: #0087ff\">Dense</span>)                     │ (<span style=\"color: #00d7ff; text-decoration-color: #00d7ff\">None</span>, <span style=\"color: #00af00; text-decoration-color: #00af00\">128</span>)                 │         <span style=\"color: #00af00; text-decoration-color: #00af00\">204,928</span> │\n",
              "├──────────────────────────────────────┼─────────────────────────────┼─────────────────┤\n",
              "│ dense_27 (<span style=\"color: #0087ff; text-decoration-color: #0087ff\">Dense</span>)                     │ (<span style=\"color: #00d7ff; text-decoration-color: #00d7ff\">None</span>, <span style=\"color: #00af00; text-decoration-color: #00af00\">2</span>)                   │             <span style=\"color: #00af00; text-decoration-color: #00af00\">258</span> │\n",
              "└──────────────────────────────────────┴─────────────────────────────┴─────────────────┘\n",
              "</pre>\n"
            ]
          },
          "metadata": {}
        },
        {
          "output_type": "display_data",
          "data": {
            "text/plain": [
              "\u001b[1m Total params: \u001b[0m\u001b[38;5;34m728,264\u001b[0m (2.78 MB)\n"
            ],
            "text/html": [
              "<pre style=\"white-space:pre;overflow-x:auto;line-height:normal;font-family:Menlo,'DejaVu Sans Mono',consolas,'Courier New',monospace\"><span style=\"font-weight: bold\"> Total params: </span><span style=\"color: #00af00; text-decoration-color: #00af00\">728,264</span> (2.78 MB)\n",
              "</pre>\n"
            ]
          },
          "metadata": {}
        },
        {
          "output_type": "display_data",
          "data": {
            "text/plain": [
              "\u001b[1m Trainable params: \u001b[0m\u001b[38;5;34m242,754\u001b[0m (948.26 KB)\n"
            ],
            "text/html": [
              "<pre style=\"white-space:pre;overflow-x:auto;line-height:normal;font-family:Menlo,'DejaVu Sans Mono',consolas,'Courier New',monospace\"><span style=\"font-weight: bold\"> Trainable params: </span><span style=\"color: #00af00; text-decoration-color: #00af00\">242,754</span> (948.26 KB)\n",
              "</pre>\n"
            ]
          },
          "metadata": {}
        },
        {
          "output_type": "display_data",
          "data": {
            "text/plain": [
              "\u001b[1m Non-trainable params: \u001b[0m\u001b[38;5;34m0\u001b[0m (0.00 B)\n"
            ],
            "text/html": [
              "<pre style=\"white-space:pre;overflow-x:auto;line-height:normal;font-family:Menlo,'DejaVu Sans Mono',consolas,'Courier New',monospace\"><span style=\"font-weight: bold\"> Non-trainable params: </span><span style=\"color: #00af00; text-decoration-color: #00af00\">0</span> (0.00 B)\n",
              "</pre>\n"
            ]
          },
          "metadata": {}
        },
        {
          "output_type": "display_data",
          "data": {
            "text/plain": [
              "\u001b[1m Optimizer params: \u001b[0m\u001b[38;5;34m485,510\u001b[0m (1.85 MB)\n"
            ],
            "text/html": [
              "<pre style=\"white-space:pre;overflow-x:auto;line-height:normal;font-family:Menlo,'DejaVu Sans Mono',consolas,'Courier New',monospace\"><span style=\"font-weight: bold\"> Optimizer params: </span><span style=\"color: #00af00; text-decoration-color: #00af00\">485,510</span> (1.85 MB)\n",
              "</pre>\n"
            ]
          },
          "metadata": {}
        },
        {
          "output_type": "stream",
          "name": "stdout",
          "text": [
            "\n",
            "MODEL EVALUATION:\n",
            "test set accuracy: 0.8333333134651184\n",
            "test set loss: 0.6504011750221252\n"
          ]
        }
      ]
    },
    {
      "cell_type": "code",
      "source": [],
      "metadata": {
        "id": "MlUJYYRzkRPz"
      },
      "execution_count": null,
      "outputs": []
    },
    {
      "cell_type": "code",
      "source": [
        "model.evaluate(test_images, test_labels)"
      ],
      "metadata": {
        "colab": {
          "base_uri": "https://localhost:8080/"
        },
        "id": "hIGeLCaeU5G6",
        "outputId": "767cbcb3-a13a-4268-d2d3-c56ddd28bd84"
      },
      "execution_count": 70,
      "outputs": [
        {
          "output_type": "stream",
          "name": "stderr",
          "text": [
            "WARNING:tensorflow:6 out of the last 6 calls to <function TensorFlowTrainer.make_test_function.<locals>.one_step_on_iterator at 0x784c50e251b0> triggered tf.function retracing. Tracing is expensive and the excessive number of tracings could be due to (1) creating @tf.function repeatedly in a loop, (2) passing tensors with different shapes, (3) passing Python objects instead of tensors. For (1), please define your @tf.function outside of the loop. For (2), @tf.function has reduce_retracing=True option that can avoid unnecessary retracing. For (3), please refer to https://www.tensorflow.org/guide/function#controlling_retracing and https://www.tensorflow.org/api_docs/python/tf/function for  more details.\n"
          ]
        },
        {
          "output_type": "stream",
          "name": "stdout",
          "text": [
            "\u001b[1m1/1\u001b[0m \u001b[32m━━━━━━━━━━━━━━━━━━━━\u001b[0m\u001b[37m\u001b[0m \u001b[1m0s\u001b[0m 166ms/step - accuracy: 0.8333 - loss: 0.5260\n"
          ]
        },
        {
          "output_type": "execute_result",
          "data": {
            "text/plain": [
              "[0.5259737372398376, 0.8333333134651184]"
            ]
          },
          "metadata": {},
          "execution_count": 70
        }
      ]
    },
    {
      "cell_type": "code",
      "source": [
        "classifications = model.predict(test_images)\n",
        "\n",
        "print(classifications[1])"
      ],
      "metadata": {
        "colab": {
          "base_uri": "https://localhost:8080/"
        },
        "id": "LEbXaLuWVOB7",
        "outputId": "9f145e3f-928a-4a6c-c995-f156283ef04e"
      },
      "execution_count": 71,
      "outputs": [
        {
          "output_type": "stream",
          "name": "stderr",
          "text": [
            "WARNING:tensorflow:5 out of the last 6 calls to <function TensorFlowTrainer.make_predict_function.<locals>.one_step_on_data_distributed at 0x784c50c27250> triggered tf.function retracing. Tracing is expensive and the excessive number of tracings could be due to (1) creating @tf.function repeatedly in a loop, (2) passing tensors with different shapes, (3) passing Python objects instead of tensors. For (1), please define your @tf.function outside of the loop. For (2), @tf.function has reduce_retracing=True option that can avoid unnecessary retracing. For (3), please refer to https://www.tensorflow.org/guide/function#controlling_retracing and https://www.tensorflow.org/api_docs/python/tf/function for  more details.\n"
          ]
        },
        {
          "output_type": "stream",
          "name": "stdout",
          "text": [
            "\u001b[1m1/1\u001b[0m \u001b[32m━━━━━━━━━━━━━━━━━━━━\u001b[0m\u001b[37m\u001b[0m \u001b[1m0s\u001b[0m 80ms/step\n",
            "[6.3995588e-01 3.6004418e-01 1.9749053e-12 4.2549342e-16 1.5489483e-11 5.7272432e-13 1.2957229e-12 2.4288619e-14 4.4545595e-16 6.5084011e-16]\n"
          ]
        }
      ]
    },
    {
      "cell_type": "code",
      "source": [
        "print(test_labels[1])"
      ],
      "metadata": {
        "colab": {
          "base_uri": "https://localhost:8080/"
        },
        "id": "1ICO5_3TU80i",
        "outputId": "36c6bd0e-3a15-47ce-89a8-67157f1c2a89"
      },
      "execution_count": 61,
      "outputs": [
        {
          "output_type": "stream",
          "name": "stdout",
          "text": [
            "0\n"
          ]
        }
      ]
    },
    {
      "cell_type": "code",
      "source": [
        "import numpy as np\n",
        "import matplotlib.pyplot as plt\n",
        "\n",
        "def show_image_and_prediction(model, test_images, test_labels, index):\n",
        "    # Get the image and label\n",
        "    image = test_images[index]\n",
        "    true_label = test_labels[index]\n",
        "\n",
        "    # Predict the label for the given image\n",
        "    predictions = model.predict(np.expand_dims(image, axis=0))  # Add batch dimension\n",
        "    predicted_label = np.argmax(predictions[0])\n",
        "\n",
        "    # Set up the plot: 1 row, 2 columns\n",
        "    fig, (ax1, ax2) = plt.subplots(1, 2, figsize=(10, 5))\n",
        "\n",
        "    # Plot the image with the true and predicted labels\n",
        "    ax1.imshow(image, cmap='gray')  # If grayscale\n",
        "    ax1.set_title(f\"True: {true_label}, Predicted: {predicted_label}\")\n",
        "    ax1.axis('off')  # Hide axis\n",
        "\n",
        "    # Plot the prediction probabilities as a bar chart\n",
        "    ax2.bar(range(len(predictions[0])), predictions[0])\n",
        "    ax2.set_xticks(range(len(predictions[0])))\n",
        "    ax2.set_title('Prediction Probabilities')\n",
        "    ax2.set_xlabel('Class Index')\n",
        "    ax2.set_ylabel('Probability')\n",
        "\n",
        "    # Highlight the predicted class in red and the true class in green\n",
        "    ax2.bar(predicted_label, predictions[0][predicted_label], color='red')  # Predicted\n",
        "    ax2.bar(true_label, predictions[0][true_label], color='green')  # True\n",
        "\n",
        "    plt.show()\n",
        "\n",
        "# Example usage:\n",
        "# show_image_and_prediction(trained_model, test_images, test_labels, index=0)\n"
      ],
      "metadata": {
        "id": "VRPK9mN9mCsR"
      },
      "execution_count": 81,
      "outputs": []
    },
    {
      "cell_type": "code",
      "source": [
        "show_image_and_prediction(model, test_images, test_labels, 2)"
      ],
      "metadata": {
        "colab": {
          "base_uri": "https://localhost:8080/",
          "height": 524
        },
        "id": "taWk4KktmJT-",
        "outputId": "fd1fbaf6-9b0b-417b-fada-0fc52d44885a"
      },
      "execution_count": 88,
      "outputs": [
        {
          "output_type": "stream",
          "name": "stdout",
          "text": [
            "\u001b[1m1/1\u001b[0m \u001b[32m━━━━━━━━━━━━━━━━━━━━\u001b[0m\u001b[37m\u001b[0m \u001b[1m0s\u001b[0m 19ms/step\n"
          ]
        },
        {
          "output_type": "display_data",
          "data": {
            "text/plain": [
              "<Figure size 1000x500 with 2 Axes>"
            ],
            "image/png": "[encoded data removed]"
          },
          "metadata": {}
        }
      ]
    }
  ]
}